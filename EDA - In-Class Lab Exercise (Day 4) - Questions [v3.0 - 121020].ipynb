{
 "cells": [
  {
   "cell_type": "markdown",
   "metadata": {},
   "source": [
    "<table align=\"center\" width=100%>\n",
    "    <tr>\n",
    "        <td width=\"15%\">\n",
    "            <img src=\"in_class.png\">\n",
    "        </td>\n",
    "        <td>\n",
    "            <div align=\"center\">\n",
    "                <font color=\"#21618C\" size=8px>\n",
    "                    <b> Inclass - Lab <br>(Day 4)\n",
    "                    </b>\n",
    "                </font>\n",
    "            </div>\n",
    "        </td>\n",
    "    </tr>\n",
    "</table>"
   ]
  },
  {
   "cell_type": "markdown",
   "metadata": {},
   "source": [
    "### About the data set (Detected Cases of Malaria)\n",
    "\n",
    "This dataset consists of data for countries with an active malaria outbreak.\n",
    "<br>\n",
    "\n",
    "Attribute Information:\n",
    "\n",
    "**Cases_Guinea**: Number of cases of malaria reported from Guinea\n",
    "\n",
    "**Cases_Liberia**: Number of cases of malaria reported from Liberia\n",
    "\n",
    "**Cases_SierraLeone**: Number of cases of malaria reported from Sierra Leone\n",
    "\n",
    "**Cases_Nigeria**: Number of cases of malaria reported from Nigeria\n",
    "\n",
    "**Cases_Senegal**: Number of cases of malaria reported from Senegal\n",
    "\n",
    "**Cases_UnitedStates**: Number of cases of malaria reported from the United States of America\n",
    "\n",
    "**Cases_Spain**: Number of cases of malaria reported from Spain\n",
    "\n",
    "**Cases_Mali**: Number of cases of malaria reported from Mali\n",
    "\n",
    "**Deaths_Guinea**: Number of deaths reported out of the detected cases of malaria from Guinea\n",
    "\n",
    "**Deaths_Liberia**: Number of deaths reported out of the detected cases of malaria from Liberia\n",
    "\n",
    "**Deaths_SierraLeone**: Number of deaths reported out of the detected cases of malaria from Sierra Leone\n",
    "\n",
    "**Deaths_Nigeria**: Number of deaths reported out of the detected cases of malaria from Nigeria\n",
    "\n",
    "**Deaths_Senegal**: Number of deaths reported out of the detected cases of malaria from Senegal\n",
    "\n",
    "**Deaths_UnitedStates**: Number of deaths reported out of the detected cases of malaria from the United States of America\n",
    "\n",
    "**Deaths_Spain**: Number of deaths reported out of the detected cases of malaria from Spain\n",
    "\n",
    "**Deaths_Mali**: Number of deaths reported out of the detected cases of malaria from Mali"
   ]
  },
  {
   "cell_type": "markdown",
   "metadata": {},
   "source": [
    "##  Table of Content\n",
    "\n",
    "1. **[Missing Values Detection](#msv)**\n",
    "2. **[Handling Missing Values](#hmsv)**\n",
    "3. **[Outlier Detection Techniques](#out)**\n",
    "4. **[Treatment of Outliers](#odt)**\n",
    "5. **[Feature Engineering](#fe)**\n",
    "6. **[Train-Test Split](#split)**"
   ]
  },
  {
   "cell_type": "markdown",
   "metadata": {},
   "source": [
    "**Import the required libraries**"
   ]
  },
  {
   "cell_type": "code",
   "execution_count": 1,
   "metadata": {},
   "outputs": [],
   "source": [
    "import pandas as pd\n",
    "import numpy as np\n",
    "import seaborn as sns\n",
    "from scipy import stats\n",
    "import warnings\n",
    "warnings.filterwarnings('ignore')"
   ]
  },
  {
   "cell_type": "markdown",
   "metadata": {},
   "source": [
    "#### Load the malaria dataset and display the first five records (Use for section 1, 2)"
   ]
  },
  {
   "cell_type": "code",
   "execution_count": 2,
   "metadata": {},
   "outputs": [
    {
     "data": {
      "text/html": [
       "<div>\n",
       "<style scoped>\n",
       "    .dataframe tbody tr th:only-of-type {\n",
       "        vertical-align: middle;\n",
       "    }\n",
       "\n",
       "    .dataframe tbody tr th {\n",
       "        vertical-align: top;\n",
       "    }\n",
       "\n",
       "    .dataframe thead th {\n",
       "        text-align: right;\n",
       "    }\n",
       "</style>\n",
       "<table border=\"1\" class=\"dataframe\">\n",
       "  <thead>\n",
       "    <tr style=\"text-align: right;\">\n",
       "      <th></th>\n",
       "      <th>Cases_Guinea</th>\n",
       "      <th>Cases_Liberia</th>\n",
       "      <th>Cases_SierraLeone</th>\n",
       "      <th>Cases_Nigeria</th>\n",
       "      <th>Cases_Senegal</th>\n",
       "      <th>Cases_UnitedStates</th>\n",
       "      <th>Cases_Spain</th>\n",
       "      <th>Cases_Mali</th>\n",
       "      <th>Deaths_Guinea</th>\n",
       "      <th>Deaths_Liberia</th>\n",
       "      <th>Deaths_SierraLeone</th>\n",
       "      <th>Deaths_Nigeria</th>\n",
       "      <th>Deaths_Senegal</th>\n",
       "      <th>Deaths_UnitedStates</th>\n",
       "      <th>Deaths_Spain</th>\n",
       "      <th>Deaths_Mali</th>\n",
       "    </tr>\n",
       "  </thead>\n",
       "  <tbody>\n",
       "    <tr>\n",
       "      <th>0</th>\n",
       "      <td>2776.0</td>\n",
       "      <td>NaN</td>\n",
       "      <td>10030.0</td>\n",
       "      <td>NaN</td>\n",
       "      <td>NaN</td>\n",
       "      <td>NaN</td>\n",
       "      <td>NaN</td>\n",
       "      <td>NaN</td>\n",
       "      <td>1786.0</td>\n",
       "      <td>NaN</td>\n",
       "      <td>2977.0</td>\n",
       "      <td>NaN</td>\n",
       "      <td>NaN</td>\n",
       "      <td>NaN</td>\n",
       "      <td>NaN</td>\n",
       "      <td>NaN</td>\n",
       "    </tr>\n",
       "    <tr>\n",
       "      <th>1</th>\n",
       "      <td>2775.0</td>\n",
       "      <td>NaN</td>\n",
       "      <td>9780.0</td>\n",
       "      <td>NaN</td>\n",
       "      <td>NaN</td>\n",
       "      <td>NaN</td>\n",
       "      <td>NaN</td>\n",
       "      <td>NaN</td>\n",
       "      <td>1781.0</td>\n",
       "      <td>NaN</td>\n",
       "      <td>2943.0</td>\n",
       "      <td>NaN</td>\n",
       "      <td>NaN</td>\n",
       "      <td>NaN</td>\n",
       "      <td>NaN</td>\n",
       "      <td>NaN</td>\n",
       "    </tr>\n",
       "    <tr>\n",
       "      <th>2</th>\n",
       "      <td>2769.0</td>\n",
       "      <td>8166.0</td>\n",
       "      <td>9722.0</td>\n",
       "      <td>NaN</td>\n",
       "      <td>NaN</td>\n",
       "      <td>20.0</td>\n",
       "      <td>NaN</td>\n",
       "      <td>NaN</td>\n",
       "      <td>1767.0</td>\n",
       "      <td>3496.0</td>\n",
       "      <td>2915.0</td>\n",
       "      <td>NaN</td>\n",
       "      <td>NaN</td>\n",
       "      <td>3.0</td>\n",
       "      <td>NaN</td>\n",
       "      <td>NaN</td>\n",
       "    </tr>\n",
       "    <tr>\n",
       "      <th>3</th>\n",
       "      <td>NaN</td>\n",
       "      <td>8157.0</td>\n",
       "      <td>NaN</td>\n",
       "      <td>NaN</td>\n",
       "      <td>NaN</td>\n",
       "      <td>10.0</td>\n",
       "      <td>NaN</td>\n",
       "      <td>NaN</td>\n",
       "      <td>NaN</td>\n",
       "      <td>3496.0</td>\n",
       "      <td>NaN</td>\n",
       "      <td>NaN</td>\n",
       "      <td>NaN</td>\n",
       "      <td>8.0</td>\n",
       "      <td>NaN</td>\n",
       "      <td>NaN</td>\n",
       "    </tr>\n",
       "    <tr>\n",
       "      <th>4</th>\n",
       "      <td>NaN</td>\n",
       "      <td>NaN</td>\n",
       "      <td>NaN</td>\n",
       "      <td>NaN</td>\n",
       "      <td>NaN</td>\n",
       "      <td>NaN</td>\n",
       "      <td>NaN</td>\n",
       "      <td>NaN</td>\n",
       "      <td>NaN</td>\n",
       "      <td>NaN</td>\n",
       "      <td>NaN</td>\n",
       "      <td>NaN</td>\n",
       "      <td>NaN</td>\n",
       "      <td>NaN</td>\n",
       "      <td>NaN</td>\n",
       "      <td>NaN</td>\n",
       "    </tr>\n",
       "  </tbody>\n",
       "</table>\n",
       "</div>"
      ],
      "text/plain": [
       "   Cases_Guinea  Cases_Liberia  Cases_SierraLeone  Cases_Nigeria  \\\n",
       "0        2776.0            NaN            10030.0            NaN   \n",
       "1        2775.0            NaN             9780.0            NaN   \n",
       "2        2769.0         8166.0             9722.0            NaN   \n",
       "3           NaN         8157.0                NaN            NaN   \n",
       "4           NaN            NaN                NaN            NaN   \n",
       "\n",
       "   Cases_Senegal  Cases_UnitedStates  Cases_Spain  Cases_Mali  Deaths_Guinea  \\\n",
       "0            NaN                 NaN          NaN         NaN         1786.0   \n",
       "1            NaN                 NaN          NaN         NaN         1781.0   \n",
       "2            NaN                20.0          NaN         NaN         1767.0   \n",
       "3            NaN                10.0          NaN         NaN            NaN   \n",
       "4            NaN                 NaN          NaN         NaN            NaN   \n",
       "\n",
       "   Deaths_Liberia  Deaths_SierraLeone  Deaths_Nigeria  Deaths_Senegal  \\\n",
       "0             NaN              2977.0             NaN             NaN   \n",
       "1             NaN              2943.0             NaN             NaN   \n",
       "2          3496.0              2915.0             NaN             NaN   \n",
       "3          3496.0                 NaN             NaN             NaN   \n",
       "4             NaN                 NaN             NaN             NaN   \n",
       "\n",
       "   Deaths_UnitedStates  Deaths_Spain  Deaths_Mali  \n",
       "0                  NaN           NaN          NaN  \n",
       "1                  NaN           NaN          NaN  \n",
       "2                  3.0           NaN          NaN  \n",
       "3                  8.0           NaN          NaN  \n",
       "4                  NaN           NaN          NaN  "
      ]
     },
     "execution_count": 2,
     "metadata": {},
     "output_type": "execute_result"
    }
   ],
   "source": [
    "df = pd.read_csv(\"malaria.csv\")\n",
    "df.head()"
   ]
  },
  {
   "cell_type": "markdown",
   "metadata": {},
   "source": [
    "### Let's begin with some hands-on practice exercises"
   ]
  },
  {
   "cell_type": "markdown",
   "metadata": {},
   "source": [
    "<a id=\"msv\"> </a>\n",
    "## 1. Missing Values Detection"
   ]
  },
  {
   "cell_type": "markdown",
   "metadata": {
    "collapsed": true
   },
   "source": [
    "<table align=\"left\">\n",
    "    <tr>\n",
    "        <td width=\"6%\">\n",
    "            <img src=\"question_icon.png\">\n",
    "        </td>\n",
    "        <td>\n",
    "            <div align=\"left\", style=\"font-size:120%\">\n",
    "                <font color=\"#21618C\">\n",
    "                    <b>1. Are there any records where no data has been reported?</b>\n",
    "                </font>\n",
    "            </div>\n",
    "        </td>\n",
    "    </tr>\n",
    "</table>"
   ]
  },
  {
   "cell_type": "code",
   "execution_count": 3,
   "metadata": {},
   "outputs": [
    {
     "data": {
      "text/plain": [
       "Index(['Cases_Guinea', 'Cases_Liberia', 'Cases_SierraLeone', 'Cases_Nigeria',\n",
       "       'Cases_Senegal', 'Cases_UnitedStates', 'Cases_Spain', 'Cases_Mali',\n",
       "       'Deaths_Guinea', 'Deaths_Liberia', 'Deaths_SierraLeone',\n",
       "       'Deaths_Nigeria', 'Deaths_Senegal', 'Deaths_UnitedStates',\n",
       "       'Deaths_Spain', 'Deaths_Mali'],\n",
       "      dtype='object')"
      ]
     },
     "execution_count": 3,
     "metadata": {},
     "output_type": "execute_result"
    }
   ],
   "source": [
    "df.columns"
   ]
  },
  {
   "cell_type": "code",
   "execution_count": 4,
   "metadata": {},
   "outputs": [
    {
     "data": {
      "text/plain": [
       "126"
      ]
     },
     "execution_count": 4,
     "metadata": {},
     "output_type": "execute_result"
    }
   ],
   "source": [
    "df.isnull().any(axis=1).sum()"
   ]
  },
  {
   "cell_type": "code",
   "execution_count": 5,
   "metadata": {},
   "outputs": [
    {
     "data": {
      "text/plain": [
       "Cases_Guinea            34\n",
       "Cases_Liberia           44\n",
       "Cases_SierraLeone       40\n",
       "Cases_Nigeria           89\n",
       "Cases_Senegal          102\n",
       "Cases_UnitedStates      54\n",
       "Cases_Spain            111\n",
       "Cases_Mali             115\n",
       "Deaths_Guinea           35\n",
       "Deaths_Liberia          46\n",
       "Deaths_SierraLeone      40\n",
       "Deaths_Nigeria          89\n",
       "Deaths_Senegal         105\n",
       "Deaths_UnitedStates     70\n",
       "Deaths_Spain           111\n",
       "Deaths_Mali            115\n",
       "dtype: int64"
      ]
     },
     "execution_count": 5,
     "metadata": {},
     "output_type": "execute_result"
    }
   ],
   "source": [
    "df.isnull().sum()"
   ]
  },
  {
   "cell_type": "markdown",
   "metadata": {
    "collapsed": true
   },
   "source": [
    "<table align=\"left\">\n",
    "    <tr>\n",
    "        <td width=\"6%\">\n",
    "            <img src=\"question_icon.png\">\n",
    "        </td>\n",
    "        <td>\n",
    "            <div align=\"left\", style=\"font-size:120%\">\n",
    "                <font color=\"#21618C\">\n",
    "                    <b>2. Find a list of all the columns which have more than 60% of their values missing</b>\n",
    "                </font>\n",
    "            </div>\n",
    "        </td>\n",
    "    </tr>\n",
    "</table>"
   ]
  },
  {
   "cell_type": "code",
   "execution_count": 6,
   "metadata": {},
   "outputs": [
    {
     "data": {
      "text/plain": [
       "Index(['Cases_Nigeria', 'Cases_Senegal', 'Cases_Spain', 'Cases_Mali',\n",
       "       'Deaths_Nigeria', 'Deaths_Senegal', 'Deaths_Spain', 'Deaths_Mali'],\n",
       "      dtype='object')"
      ]
     },
     "execution_count": 6,
     "metadata": {},
     "output_type": "execute_result"
    }
   ],
   "source": [
    "missing_value_percent = df.isnull().mean()\n",
    "column_60_missing = missing_value_percent[missing_value_percent > 0.6].index\n",
    "column_60_missing "
   ]
  },
  {
   "cell_type": "code",
   "execution_count": 7,
   "metadata": {},
   "outputs": [
    {
     "data": {
      "text/plain": [
       "True"
      ]
     },
     "execution_count": 7,
     "metadata": {},
     "output_type": "execute_result"
    }
   ],
   "source": [
    "df.isnull().sum().any()"
   ]
  },
  {
   "cell_type": "markdown",
   "metadata": {},
   "source": [
    "If the output of the code is an empty list, it means that there are no columns in the DataFrame with more than 60% missing values. This could be because there are no missing values in the DataFrame, or because the percentage of missing values in all the columns is less than 60%."
   ]
  },
  {
   "cell_type": "markdown",
   "metadata": {
    "collapsed": true
   },
   "source": [
    "<table align=\"left\">\n",
    "    <tr>\n",
    "        <td width=\"6%\">\n",
    "            <img src=\"question_icon.png\">\n",
    "        </td>\n",
    "        <td>\n",
    "            <div align=\"left\", style=\"font-size:120%\">\n",
    "                <font color=\"#21618C\">\n",
    "                    <b>3. In a scenario where one of the countries detected with malaria outbreak is to be recorded again for observations, which country should be considered first (consider only the first four countries)?</b>\n",
    "                </font>\n",
    "            </div>\n",
    "        </td>\n",
    "    </tr>\n",
    "</table>"
   ]
  },
  {
   "cell_type": "code",
   "execution_count": 8,
   "metadata": {},
   "outputs": [
    {
     "data": {
      "text/plain": [
       "0    Cases_SierraLeone\n",
       "1    Cases_SierraLeone\n",
       "2    Cases_SierraLeone\n",
       "3        Cases_Liberia\n",
       "dtype: object"
      ]
     },
     "execution_count": 8,
     "metadata": {},
     "output_type": "execute_result"
    }
   ],
   "source": [
    "# Select the first four countries\n",
    "first_four_countries = df[['Cases_Guinea', 'Cases_Liberia', 'Cases_SierraLeone', 'Cases_Nigeria']]\n",
    "\n",
    "# Find the country with the highest number of cases\n",
    "highest_cases = first_four_countries.idxmax(axis=1)\n",
    "\n",
    "# Print the country with the highest number of cases\n",
    "highest_cases.head(4)"
   ]
  },
  {
   "cell_type": "markdown",
   "metadata": {
    "collapsed": true
   },
   "source": [
    "<table align=\"left\">\n",
    "    <tr>\n",
    "        <td width=\"6%\">\n",
    "            <img src=\"question_icon.png\">\n",
    "        </td>\n",
    "        <td>\n",
    "            <div align=\"left\", style=\"font-size:120%\">\n",
    "                <font color=\"#21618C\">\n",
    "                    <b>4. Visualize the missing values in the data</b>\n",
    "                </font>\n",
    "            </div>\n",
    "        </td>\n",
    "    </tr>\n",
    "</table>"
   ]
  },
  {
   "cell_type": "code",
   "execution_count": 9,
   "metadata": {},
   "outputs": [
    {
     "data": {
      "text/plain": [
       "<AxesSubplot:>"
      ]
     },
     "execution_count": 9,
     "metadata": {},
     "output_type": "execute_result"
    },
    {
     "data": {
      "image/png": "[encoded data removed]",
      "text/plain": [
       "<Figure size 5040x2664 with 1 Axes>"
      ]
     },
     "metadata": {
      "needs_background": "light"
     },
     "output_type": "display_data"
    }
   ],
   "source": [
    "# Create a heatmap of the missing values\n",
    "import matplotlib.pyplot as plt\n",
    "plt.rcParams[\"figure.figsize\"]=[70,37]\n",
    "sns.heatmap(df.isnull(), cbar=False)"
   ]
  },
  {
   "cell_type": "code",
   "execution_count": 10,
   "metadata": {},
   "outputs": [
    {
     "data": {
      "image/png": "[encoded data removed]",
      "text/plain": [
       "<Figure size 5040x2664 with 1 Axes>"
      ]
     },
     "metadata": {
      "needs_background": "light"
     },
     "output_type": "display_data"
    }
   ],
   "source": [
    "import matplotlib.pyplot as plt\n",
    "import seaborn as sns\n",
    "\n",
    "# Calculate the percentage of missing values for each column\n",
    "missing_values_percent = df.isnull().mean()\n",
    "\n",
    "# Sort the columns by the percentage of missing values\n",
    "sorted_missing_values = missing_values_percent.sort_values(ascending=False)\n",
    "\n",
    "# Create a barplot of the sorted missing values\n",
    "sns.barplot(x=sorted_missing_values.index, y=sorted_missing_values)\n",
    "\n",
    "# Add labels to the plot\n",
    "plt.rcParams[\"figure.figsize\"]=[70,17]\n",
    "plt.xlabel(\"Columns\")\n",
    "plt.ylabel(\"Percentage of Missing Values\")\n",
    "plt.title(\"Percentage of Missing Values by Column\")\n",
    "\n",
    "# Show the plot\n",
    "plt.show()"
   ]
  },
  {
   "cell_type": "markdown",
   "metadata": {},
   "source": [
    "<a id=\"hmsv\"> </a>\n",
    "## 2. Handling Missing Values"
   ]
  },
  {
   "cell_type": "markdown",
   "metadata": {
    "collapsed": true
   },
   "source": [
    "<table align=\"left\">\n",
    "    <tr>\n",
    "        <td width=\"6%\">\n",
    "            <img src=\"question_icon.png\">\n",
    "        </td>\n",
    "        <td>\n",
    "            <div align=\"left\", style=\"font-size:120%\">\n",
    "                <font color=\"#21618C\">\n",
    "                    <b>5. Eliminate all the records where no more than two observations have been recorded</b>\n",
    "                </font>\n",
    "            </div>\n",
    "        </td>\n",
    "    </tr>\n",
    "</table>"
   ]
  },
  {
   "cell_type": "code",
   "execution_count": 11,
   "metadata": {},
   "outputs": [
    {
     "name": "stdout",
     "output_type": "stream",
     "text": [
      "Empty DataFrame\n",
      "Columns: [Cases_Guinea, Cases_Liberia, Cases_SierraLeone, Cases_Nigeria, Cases_Senegal, Cases_UnitedStates, Cases_Spain, Cases_Mali, Deaths_Guinea, Deaths_Liberia, Deaths_SierraLeone, Deaths_Nigeria, Deaths_Senegal, Deaths_UnitedStates, Deaths_Spain, Deaths_Mali, has_missing, count]\n",
      "Index: []\n"
     ]
    }
   ],
   "source": [
    "# Identify the records with missing values\n",
    "df['has_missing'] = df.isnull().any(axis=1)\n",
    "\n",
    "# Count the number of observations for each record\n",
    "df['count'] = df.count(axis=1)\n",
    "\n",
    "# Filter the records that have no more than two observations\n",
    "df1 = df.loc[df['count'] <= 2]\n",
    "\n",
    "# Drop the records\n",
    "df1.drop(df1.index, inplace=True)\n",
    "\n",
    "# Print the resulting dataset\n",
    "print(df1)"
   ]
  },
  {
   "cell_type": "markdown",
   "metadata": {
    "collapsed": true
   },
   "source": [
    "<table align=\"left\">\n",
    "    <tr>\n",
    "        <td width=\"6%\">\n",
    "            <img src=\"question_icon.png\">\n",
    "        </td>\n",
    "        <td>\n",
    "            <div align=\"left\", style=\"font-size:120%\">\n",
    "                <font color=\"#21618C\">\n",
    "                    <b>6. Cast aside the unnecessary columns from the data\n",
    "</b>\n",
    "                </font>\n",
    "            </div>\n",
    "        </td>\n",
    "    </tr>\n",
    "</table>"
   ]
  },
  {
   "cell_type": "code",
   "execution_count": 12,
   "metadata": {},
   "outputs": [
    {
     "data": {
      "text/plain": [
       "['Cases_Guinea',\n",
       " 'Cases_Liberia',\n",
       " 'Cases_SierraLeone',\n",
       " 'Cases_Nigeria',\n",
       " 'Cases_Senegal',\n",
       " 'Cases_UnitedStates',\n",
       " 'Cases_Spain',\n",
       " 'Cases_Mali']"
      ]
     },
     "execution_count": 12,
     "metadata": {},
     "output_type": "execute_result"
    }
   ],
   "source": [
    "\n",
    "cols_to_keep = ['Cases_Guinea', 'Cases_Liberia', 'Cases_SierraLeone', 'Cases_Nigeria',\n",
    "       'Cases_Senegal', 'Cases_UnitedStates', 'Cases_Spain', 'Cases_Mali']\n",
    "cols_to_keep"
   ]
  },
  {
   "cell_type": "code",
   "execution_count": 13,
   "metadata": {},
   "outputs": [
    {
     "data": {
      "text/plain": [
       "18"
      ]
     },
     "execution_count": 13,
     "metadata": {},
     "output_type": "execute_result"
    }
   ],
   "source": [
    "df.columns.nunique()"
   ]
  },
  {
   "cell_type": "markdown",
   "metadata": {
    "collapsed": true
   },
   "source": [
    "<table align=\"left\">\n",
    "    <tr>\n",
    "        <td width=\"6%\">\n",
    "            <img src=\"question_icon.png\">\n",
    "        </td>\n",
    "        <td>\n",
    "            <div align=\"left\", style=\"font-size:120%\">\n",
    "                <font color=\"#21618C\">\n",
    "                    <b>7. How would you treat the missing values of the reported cases from Liberia?</b>\n",
    "                </font>\n",
    "            </div>\n",
    "        </td>\n",
    "    </tr>\n",
    "</table>"
   ]
  },
  {
   "cell_type": "code",
   "execution_count": 14,
   "metadata": {},
   "outputs": [
    {
     "name": "stdout",
     "output_type": "stream",
     "text": [
      "44\n"
     ]
    }
   ],
   "source": [
    "# Count the number of null values\n",
    "null_count = df['Cases_Liberia'].isnull().sum()\n",
    "\n",
    "print(null_count)  # Output: number of null values in the Cases_Liberia column"
   ]
  },
  {
   "cell_type": "code",
   "execution_count": 15,
   "metadata": {},
   "outputs": [],
   "source": [
    "# Calculate the mean\n",
    "mean = df['Cases_Liberia'].mean()\n",
    "\n",
    "# Replace nan values with the mean\n",
    "df['Cases_Liberia'] = df['Cases_Liberia'].fillna(mean)"
   ]
  },
  {
   "cell_type": "code",
   "execution_count": 16,
   "metadata": {},
   "outputs": [
    {
     "data": {
      "text/plain": [
       "0"
      ]
     },
     "execution_count": 16,
     "metadata": {},
     "output_type": "execute_result"
    }
   ],
   "source": [
    "df['Cases_Liberia'].isnull().sum()"
   ]
  },
  {
   "cell_type": "markdown",
   "metadata": {
    "collapsed": true
   },
   "source": [
    "<table align=\"left\">\n",
    "    <tr>\n",
    "        <td width=\"6%\">\n",
    "            <img src=\"question_icon.png\">\n",
    "        </td>\n",
    "        <td>\n",
    "            <div align=\"left\", style=\"font-size:120%\">\n",
    "                <font color=\"#21618C\">\n",
    "                    <b>8. How would you treat the missing values from the reported cases of malaria from the United States of America?</b>\n",
    "                </font>\n",
    "            </div>\n",
    "        </td>\n",
    "    </tr>\n",
    "</table>"
   ]
  },
  {
   "cell_type": "code",
   "execution_count": 17,
   "metadata": {},
   "outputs": [
    {
     "data": {
      "text/plain": [
       "54"
      ]
     },
     "execution_count": 17,
     "metadata": {},
     "output_type": "execute_result"
    }
   ],
   "source": [
    "df['Cases_UnitedStates'].isnull().sum()"
   ]
  },
  {
   "cell_type": "code",
   "execution_count": 18,
   "metadata": {},
   "outputs": [],
   "source": [
    "df['Cases_UnitedStates']=df['Cases_UnitedStates'].fillna(df['Cases_UnitedStates'].mean())"
   ]
  },
  {
   "cell_type": "code",
   "execution_count": 19,
   "metadata": {},
   "outputs": [
    {
     "data": {
      "text/plain": [
       "0"
      ]
     },
     "execution_count": 19,
     "metadata": {},
     "output_type": "execute_result"
    }
   ],
   "source": [
    "df['Cases_UnitedStates'].isnull().sum()"
   ]
  },
  {
   "cell_type": "markdown",
   "metadata": {
    "collapsed": true
   },
   "source": [
    "<table align=\"left\">\n",
    "    <tr>\n",
    "        <td width=\"6%\">\n",
    "            <img src=\"question_icon.png\">\n",
    "        </td>\n",
    "        <td>\n",
    "            <div align=\"left\", style=\"font-size:120%\">\n",
    "                <font color=\"#21618C\">\n",
    "                    <b>9. How should the missing values from the observations recorded in 'Guinea' be dealt with?</b>\n",
    "                </font>\n",
    "            </div>\n",
    "        </td>\n",
    "    </tr>\n",
    "</table>"
   ]
  },
  {
   "cell_type": "code",
   "execution_count": 20,
   "metadata": {},
   "outputs": [
    {
     "data": {
      "text/plain": [
       "34"
      ]
     },
     "execution_count": 20,
     "metadata": {},
     "output_type": "execute_result"
    }
   ],
   "source": [
    "df['Cases_Guinea'].isnull().sum()"
   ]
  },
  {
   "cell_type": "code",
   "execution_count": 21,
   "metadata": {},
   "outputs": [],
   "source": [
    "df['Cases_Guinea'] = df['Cases_Guinea'].fillna(df['Cases_Guinea'].mean())"
   ]
  },
  {
   "cell_type": "code",
   "execution_count": 22,
   "metadata": {},
   "outputs": [
    {
     "data": {
      "text/plain": [
       "0"
      ]
     },
     "execution_count": 22,
     "metadata": {},
     "output_type": "execute_result"
    }
   ],
   "source": [
    "df['Cases_Guinea'].isnull().sum()"
   ]
  },
  {
   "cell_type": "markdown",
   "metadata": {},
   "source": [
    "## For questions hereon, we shall consider the following dataset."
   ]
  },
  {
   "cell_type": "markdown",
   "metadata": {},
   "source": [
    "### About the dataset (House Prices in Melbourne)\n",
    "\n",
    "The dataset contains different attributes that contribute to the price of the houses in Melbourne.  \n",
    "\n",
    "Attribute Information:\n",
    "\n",
    "**Rooms**: Number of rooms\n",
    "\n",
    "**Type**: h - house,cottage,villa, semi,terrace; u - unit, duplex; t - townhouse; dev site - development site; o res - other residential.\n",
    "\n",
    "**Price**: Price in dollars\n",
    "\n",
    "**Method**: S - property sold; SP - property sold prior; PI - property passed in; PN - sold prior not disclosed; SN - sold not disclosed; NB - no bid; VB - vendor bid; W - withdrawn before auction; SA - sold after auction; SS - sold after auction price not disclosed. N/A - price or highest bid not available.\n",
    "\n",
    "**Regionname**:  General Region (West, North West, North, Northeast,...)\n",
    "\n",
    "**Bathroom**: Number of Bathrooms\n",
    "\n",
    "**Car**: Number of car spots\n",
    "\n",
    "**Landsize**: Land Size of a house\n",
    "\n",
    "**Distance**: Distance from CBD (City Centre)\n",
    "\n",
    "**Bedroom**: Number of Bedrooms"
   ]
  },
  {
   "cell_type": "markdown",
   "metadata": {},
   "source": [
    "#### Load the house dataset and display the first five records (Use for section 3 to 6)"
   ]
  },
  {
   "cell_type": "markdown",
   "metadata": {},
   "source": [
    "<a id=\"out\"> </a>\n",
    "## 3. Outlier Detection Techniques "
   ]
  },
  {
   "cell_type": "markdown",
   "metadata": {
    "collapsed": true
   },
   "source": [
    "<table align=\"left\">\n",
    "    <tr>\n",
    "        <td width=\"6%\">\n",
    "            <img src=\"question_icon.png\">\n",
    "        </td>\n",
    "        <td>\n",
    "            <div align=\"left\", style=\"font-size:120%\">\n",
    "                <font color=\"#21618C\">\n",
    "                    <b>10. Is there a feature in the dataset which could be exempted from outlier treatment?\n",
    "</b>\n",
    "                </font>\n",
    "            </div>\n",
    "        </td>\n",
    "    </tr>\n",
    "</table>"
   ]
  },
  {
   "cell_type": "code",
   "execution_count": 23,
   "metadata": {},
   "outputs": [
    {
     "data": {
      "text/html": [
       "<div>\n",
       "<style scoped>\n",
       "    .dataframe tbody tr th:only-of-type {\n",
       "        vertical-align: middle;\n",
       "    }\n",
       "\n",
       "    .dataframe tbody tr th {\n",
       "        vertical-align: top;\n",
       "    }\n",
       "\n",
       "    .dataframe thead th {\n",
       "        text-align: right;\n",
       "    }\n",
       "</style>\n",
       "<table border=\"1\" class=\"dataframe\">\n",
       "  <thead>\n",
       "    <tr style=\"text-align: right;\">\n",
       "      <th></th>\n",
       "      <th>Rooms</th>\n",
       "      <th>Type</th>\n",
       "      <th>Price</th>\n",
       "      <th>Method</th>\n",
       "      <th>Regionname</th>\n",
       "      <th>Bathroom</th>\n",
       "      <th>Car</th>\n",
       "      <th>Landsize</th>\n",
       "      <th>Distance</th>\n",
       "      <th>Bedroom</th>\n",
       "    </tr>\n",
       "  </thead>\n",
       "  <tbody>\n",
       "    <tr>\n",
       "      <th>0</th>\n",
       "      <td>3</td>\n",
       "      <td>h</td>\n",
       "      <td>1490000</td>\n",
       "      <td>S</td>\n",
       "      <td>Northern Metropolitan</td>\n",
       "      <td>1</td>\n",
       "      <td>1</td>\n",
       "      <td>126</td>\n",
       "      <td>25.2</td>\n",
       "      <td>2</td>\n",
       "    </tr>\n",
       "    <tr>\n",
       "      <th>1</th>\n",
       "      <td>3</td>\n",
       "      <td>h</td>\n",
       "      <td>1220000</td>\n",
       "      <td>S</td>\n",
       "      <td>Northern Metropolitan</td>\n",
       "      <td>1</td>\n",
       "      <td>1</td>\n",
       "      <td>202</td>\n",
       "      <td>21.8</td>\n",
       "      <td>2</td>\n",
       "    </tr>\n",
       "    <tr>\n",
       "      <th>2</th>\n",
       "      <td>3</td>\n",
       "      <td>h</td>\n",
       "      <td>1420000</td>\n",
       "      <td>S</td>\n",
       "      <td>Northern Metropolitan</td>\n",
       "      <td>1</td>\n",
       "      <td>0</td>\n",
       "      <td>156</td>\n",
       "      <td>21.7</td>\n",
       "      <td>2</td>\n",
       "    </tr>\n",
       "    <tr>\n",
       "      <th>3</th>\n",
       "      <td>3</td>\n",
       "      <td>h</td>\n",
       "      <td>1515000</td>\n",
       "      <td>S</td>\n",
       "      <td>Western Metropolitan</td>\n",
       "      <td>2</td>\n",
       "      <td>1</td>\n",
       "      <td>0</td>\n",
       "      <td>18.8</td>\n",
       "      <td>3</td>\n",
       "    </tr>\n",
       "    <tr>\n",
       "      <th>4</th>\n",
       "      <td>2</td>\n",
       "      <td>h</td>\n",
       "      <td>670000</td>\n",
       "      <td>S</td>\n",
       "      <td>Western Metropolitan</td>\n",
       "      <td>2</td>\n",
       "      <td>0</td>\n",
       "      <td>134</td>\n",
       "      <td>20.6</td>\n",
       "      <td>3</td>\n",
       "    </tr>\n",
       "    <tr>\n",
       "      <th>...</th>\n",
       "      <td>...</td>\n",
       "      <td>...</td>\n",
       "      <td>...</td>\n",
       "      <td>...</td>\n",
       "      <td>...</td>\n",
       "      <td>...</td>\n",
       "      <td>...</td>\n",
       "      <td>...</td>\n",
       "      <td>...</td>\n",
       "      <td>...</td>\n",
       "    </tr>\n",
       "    <tr>\n",
       "      <th>4761</th>\n",
       "      <td>3</td>\n",
       "      <td>h</td>\n",
       "      <td>1150000</td>\n",
       "      <td>VB</td>\n",
       "      <td>Southern Metropolitan</td>\n",
       "      <td>2</td>\n",
       "      <td>1</td>\n",
       "      <td>305</td>\n",
       "      <td>18.7</td>\n",
       "      <td>3</td>\n",
       "    </tr>\n",
       "    <tr>\n",
       "      <th>4762</th>\n",
       "      <td>3</td>\n",
       "      <td>h</td>\n",
       "      <td>712000</td>\n",
       "      <td>S</td>\n",
       "      <td>South-Eastern Metropolitan</td>\n",
       "      <td>1</td>\n",
       "      <td>0</td>\n",
       "      <td>105</td>\n",
       "      <td>16.0</td>\n",
       "      <td>4</td>\n",
       "    </tr>\n",
       "    <tr>\n",
       "      <th>4763</th>\n",
       "      <td>4</td>\n",
       "      <td>h</td>\n",
       "      <td>800000</td>\n",
       "      <td>S</td>\n",
       "      <td>South-Eastern Metropolitan</td>\n",
       "      <td>1</td>\n",
       "      <td>0</td>\n",
       "      <td>120</td>\n",
       "      <td>24.5</td>\n",
       "      <td>3</td>\n",
       "    </tr>\n",
       "    <tr>\n",
       "      <th>4764</th>\n",
       "      <td>3</td>\n",
       "      <td>u</td>\n",
       "      <td>747000</td>\n",
       "      <td>S</td>\n",
       "      <td>South-Eastern Metropolitan</td>\n",
       "      <td>1</td>\n",
       "      <td>1</td>\n",
       "      <td>0</td>\n",
       "      <td>22.9</td>\n",
       "      <td>3</td>\n",
       "    </tr>\n",
       "    <tr>\n",
       "      <th>4765</th>\n",
       "      <td>3</td>\n",
       "      <td>h</td>\n",
       "      <td>800000</td>\n",
       "      <td>SP</td>\n",
       "      <td>South-Eastern Metropolitan</td>\n",
       "      <td>1</td>\n",
       "      <td>1</td>\n",
       "      <td>0</td>\n",
       "      <td>13.7</td>\n",
       "      <td>3</td>\n",
       "    </tr>\n",
       "  </tbody>\n",
       "</table>\n",
       "<p>4766 rows × 10 columns</p>\n",
       "</div>"
      ],
      "text/plain": [
       "      Rooms Type    Price Method                  Regionname  Bathroom  Car  \\\n",
       "0         3    h  1490000      S       Northern Metropolitan         1    1   \n",
       "1         3    h  1220000      S       Northern Metropolitan         1    1   \n",
       "2         3    h  1420000      S       Northern Metropolitan         1    0   \n",
       "3         3    h  1515000      S        Western Metropolitan         2    1   \n",
       "4         2    h   670000      S        Western Metropolitan         2    0   \n",
       "...     ...  ...      ...    ...                         ...       ...  ...   \n",
       "4761      3    h  1150000     VB       Southern Metropolitan         2    1   \n",
       "4762      3    h   712000      S  South-Eastern Metropolitan         1    0   \n",
       "4763      4    h   800000      S  South-Eastern Metropolitan         1    0   \n",
       "4764      3    u   747000      S  South-Eastern Metropolitan         1    1   \n",
       "4765      3    h   800000     SP  South-Eastern Metropolitan         1    1   \n",
       "\n",
       "      Landsize  Distance  Bedroom  \n",
       "0          126      25.2        2  \n",
       "1          202      21.8        2  \n",
       "2          156      21.7        2  \n",
       "3            0      18.8        3  \n",
       "4          134      20.6        3  \n",
       "...        ...       ...      ...  \n",
       "4761       305      18.7        3  \n",
       "4762       105      16.0        4  \n",
       "4763       120      24.5        3  \n",
       "4764         0      22.9        3  \n",
       "4765         0      13.7        3  \n",
       "\n",
       "[4766 rows x 10 columns]"
      ]
     },
     "execution_count": 23,
     "metadata": {},
     "output_type": "execute_result"
    }
   ],
   "source": [
    "df_house = pd.read_csv(\"house.csv\")\n",
    "df_house"
   ]
  },
  {
   "cell_type": "code",
   "execution_count": 24,
   "metadata": {},
   "outputs": [
    {
     "data": {
      "image/png": "[encoded data removed]",
      "text/plain": [
       "<Figure size 1296x504 with 1 Axes>"
      ]
     },
     "metadata": {
      "needs_background": "light"
     },
     "output_type": "display_data"
    }
   ],
   "source": [
    "# Plot a box plot of the Price data\n",
    "plt.rcParams[\"figure.figsize\"]=[18,7]\n",
    "df_house['Price'].plot.box()\n",
    "\n",
    "# Show the plot\n",
    "plt.show()"
   ]
  },
  {
   "cell_type": "markdown",
   "metadata": {
    "collapsed": true
   },
   "source": [
    "<table align=\"left\">\n",
    "    <tr>\n",
    "        <td width=\"6%\">\n",
    "            <img src=\"question_icon.png\">\n",
    "        </td>\n",
    "        <td>\n",
    "            <div align=\"left\", style=\"font-size:120%\">\n",
    "                <font color=\"#21618C\">\n",
    "                    <b>11. How do we check the outlier values for the feature representing the number of car spots?</b>\n",
    "                </font>\n",
    "            </div>\n",
    "        </td>\n",
    "    </tr>\n",
    "</table>"
   ]
  },
  {
   "cell_type": "code",
   "execution_count": 25,
   "metadata": {},
   "outputs": [
    {
     "name": "stdout",
     "output_type": "stream",
     "text": [
      "Index(['Rooms', 'Type', 'Price', 'Method', 'Regionname', 'Bathroom', 'Car',\n",
      "       'Landsize', 'Distance', 'Bedroom'],\n",
      "      dtype='object')\n"
     ]
    }
   ],
   "source": [
    "print(df_house.columns)"
   ]
  },
  {
   "cell_type": "code",
   "execution_count": 26,
   "metadata": {},
   "outputs": [
    {
     "data": {
      "image/png": "[encoded data removed]",
      "text/plain": [
       "<Figure size 1296x504 with 1 Axes>"
      ]
     },
     "metadata": {
      "needs_background": "light"
     },
     "output_type": "display_data"
    }
   ],
   "source": [
    "# Calculate the mean and standard deviation of the Car feature\n",
    "mean = df_house['Car'].mean()\n",
    "std = df_house['Car'].std()\n",
    "\n",
    "# Calculate the Z-scores for each value in the Car feature\n",
    "z_scores = (df_house['Car'] - mean) / std\n",
    "\n",
    "# Identify outliers as values with a Z-score greater than 3 or less than -3\n",
    "outliers = df_house[(z_scores > 3) | (z_scores < -3)]\n",
    "\n",
    "# Plot a histogram of the Car feature\n",
    "df_house['Car'].hist()\n",
    "\n",
    "# Show the plot\n",
    "plt.show()"
   ]
  },
  {
   "cell_type": "code",
   "execution_count": 27,
   "metadata": {},
   "outputs": [
    {
     "data": {
      "text/plain": [
       "0       1\n",
       "1       1\n",
       "2       0\n",
       "3       1\n",
       "4       0\n",
       "       ..\n",
       "4761    1\n",
       "4762    0\n",
       "4763    0\n",
       "4764    1\n",
       "4765    1\n",
       "Name: Car, Length: 4766, dtype: int64"
      ]
     },
     "execution_count": 27,
     "metadata": {},
     "output_type": "execute_result"
    }
   ],
   "source": [
    "# Try to access the 'Car' column\n",
    "car_column = df_house.get('Car')\n",
    "\n",
    "# Print the result\n",
    "car_column"
   ]
  },
  {
   "cell_type": "markdown",
   "metadata": {
    "collapsed": true
   },
   "source": [
    "<table align=\"left\">\n",
    "    <tr>\n",
    "        <td width=\"6%\">\n",
    "            <img src=\"question_icon.png\">\n",
    "        </td>\n",
    "        <td>\n",
    "            <div align=\"left\", style=\"font-size:120%\">\n",
    "                <font color=\"#21618C\">\n",
    "                    <b>12. Compare the outliers present in the price of real estates by their type\n",
    "</b>\n",
    "                </font>\n",
    "            </div>\n",
    "        </td>\n",
    "    </tr>\n",
    "</table>"
   ]
  },
  {
   "cell_type": "code",
   "execution_count": 28,
   "metadata": {},
   "outputs": [
    {
     "data": {
      "image/png": "[encoded data removed]",
      "text/plain": [
       "<Figure size 1296x504 with 1 Axes>"
      ]
     },
     "metadata": {
      "needs_background": "light"
     },
     "output_type": "display_data"
    }
   ],
   "source": [
    "df_house['Price'] = df_house['Price'].astype('object')\n",
    "# Calculate the mean and standard deviation of the Price feature by Type\n",
    "mean = df_house.groupby('Type')['Price'].mean()\n",
    "std = df_house.groupby('Type')['Price'].std()\n",
    "\n",
    "# Calculate the Z-scores for each value in the Price feature by Type\n",
    "z_scores = df_house.groupby('Type').apply(lambda x: (x['Price'] - x['Price'].mean()) / x['Price'].std())\n",
    "\n",
    "# Reset the index of the z_scores Series to remove the Type level\n",
    "z_scores = z_scores.reset_index(level=0, drop=True)\n",
    "\n",
    "# Identify outliers as values with a Z-score greater than 3 or less than -3\n",
    "outliers = df_house[(z_scores > 3) | (z_scores < -3)]\n",
    "\n",
    "# Plot a box plot of the Price feature by Type\n",
    "df_house.boxplot(by='Type', column=['Price'])\n",
    "\n",
    "# Show the plot\n",
    "plt.show()"
   ]
  },
  {
   "cell_type": "markdown",
   "metadata": {
    "collapsed": true
   },
   "source": [
    "<table align=\"left\">\n",
    "    <tr>\n",
    "        <td width=\"6%\">\n",
    "            <img src=\"question_icon.png\">\n",
    "        </td>\n",
    "        <td>\n",
    "            <div align=\"left\", style=\"font-size:120%\">\n",
    "                <font color=\"#21618C\">\n",
    "                    <b>13. What would be the extreme values for the feature representing the number of rooms?\n",
    "</b>\n",
    "                </font>\n",
    "            </div>\n",
    "        </td>\n",
    "    </tr>\n",
    "</table>"
   ]
  },
  {
   "cell_type": "code",
   "execution_count": 29,
   "metadata": {},
   "outputs": [
    {
     "name": "stdout",
     "output_type": "stream",
     "text": [
      "count    4766.000000\n",
      "mean        3.083718\n",
      "std         0.937456\n",
      "min         1.000000\n",
      "25%         2.000000\n",
      "50%         3.000000\n",
      "75%         4.000000\n",
      "max         8.000000\n",
      "Name: Rooms, dtype: float64\n"
     ]
    }
   ],
   "source": [
    "# Get summary statistics for the Rooms feature\n",
    "rooms_stats = df_house['Rooms'].describe()\n",
    "\n",
    "print(rooms_stats)"
   ]
  },
  {
   "cell_type": "markdown",
   "metadata": {},
   "source": [
    "From these summary statistics, you can see that the minimum value for the Rooms feature is 1 and the maximum value is 12. These are the extreme values for this feature."
   ]
  },
  {
   "cell_type": "code",
   "execution_count": 30,
   "metadata": {},
   "outputs": [
    {
     "name": "stdout",
     "output_type": "stream",
     "text": [
      "Minimum number of rooms: 1\n",
      "Maximum number of rooms: 8\n"
     ]
    }
   ],
   "source": [
    "# Get the minimum and maximum values of the Rooms feature\n",
    "min_rooms = df_house['Rooms'].min()\n",
    "max_rooms = df_house['Rooms'].max()\n",
    "\n",
    "print(f\"Minimum number of rooms: {min_rooms}\")\n",
    "print(f\"Maximum number of rooms: {max_rooms}\")"
   ]
  },
  {
   "cell_type": "markdown",
   "metadata": {
    "collapsed": true
   },
   "source": [
    "<table align=\"left\">\n",
    "    <tr>\n",
    "        <td width=\"6%\">\n",
    "            <img src=\"question_icon.png\">\n",
    "        </td>\n",
    "        <td>\n",
    "            <div align=\"left\", style=\"font-size:120%\">\n",
    "                <font color=\"#21618C\">\n",
    "                    <b>14. Suggest a method to find the outlier values for the feature representing the number of bathrooms\n",
    " </b>\n",
    "                </font>\n",
    "            </div>\n",
    "        </td>\n",
    "    </tr>\n",
    "</table>"
   ]
  },
  {
   "cell_type": "code",
   "execution_count": 31,
   "metadata": {},
   "outputs": [],
   "source": [
    "# Calculate the mean and standard deviation of the Bathroom feature\n",
    "mean = df_house['Bathroom'].mean()\n",
    "std = df_house['Bathroom'].std()"
   ]
  },
  {
   "cell_type": "code",
   "execution_count": 32,
   "metadata": {},
   "outputs": [],
   "source": [
    "# Calculate the Z-scores for each value in the Bathroom feature\n",
    "z_scores = (df_house['Bathroom'] - mean) / std"
   ]
  },
  {
   "cell_type": "code",
   "execution_count": 33,
   "metadata": {},
   "outputs": [
    {
     "name": "stdout",
     "output_type": "stream",
     "text": [
      "      Rooms Type    Price Method                  Regionname  Bathroom  Car  \\\n",
      "103       3    t   385000      S       Northern Metropolitan         7    0   \n",
      "122       3    t   950000      S        Eastern Metropolitan         4    4   \n",
      "229       1    u   337000      S  South-Eastern Metropolitan         4    2   \n",
      "382       3    h   720000      S        Western Metropolitan         5    2   \n",
      "448       3    h  1116000      S       Southern Metropolitan         5    4   \n",
      "...     ...  ...      ...    ...                         ...       ...  ...   \n",
      "4093      2    u   560000     PI       Southern Metropolitan         4    2   \n",
      "4132      2    u   600000      S       Southern Metropolitan         4    2   \n",
      "4497      4    h  1730000      S       Southern Metropolitan         4    3   \n",
      "4681      3    h   870000     VB        Western Metropolitan         4    3   \n",
      "4719      2    u   780000      S        Eastern Metropolitan         4    2   \n",
      "\n",
      "      Landsize  Distance  Bedroom  \n",
      "103        435      18.0        3  \n",
      "122        809      19.3        3  \n",
      "229        662      12.7        3  \n",
      "382        755      14.0        4  \n",
      "448        673      19.0        3  \n",
      "...        ...       ...      ...  \n",
      "4093       355      11.6        3  \n",
      "4132       636      27.2        2  \n",
      "4497       569      23.8        3  \n",
      "4681       188      20.4        2  \n",
      "4719       353      18.1        4  \n",
      "\n",
      "[71 rows x 10 columns]\n"
     ]
    }
   ],
   "source": [
    "# Identify outliers as values with a Z-score greater than 3 or less than -3\n",
    "outliers = df_house[(z_scores > 3) | (z_scores < -3)]\n",
    "print(outliers)"
   ]
  },
  {
   "cell_type": "raw",
   "metadata": {},
   "source": [
    "The outliers DataFrame will contain the rows in the original dataset that correspond to outlier values in the Bathroom feature.  can then examine these rows to see what the outlier values are and decide how to handle them."
   ]
  },
  {
   "cell_type": "markdown",
   "metadata": {
    "collapsed": true
   },
   "source": [
    "<table align=\"left\">\n",
    "    <tr>\n",
    "        <td width=\"6%\">\n",
    "            <img src=\"question_icon.png\">\n",
    "        </td>\n",
    "        <td>\n",
    "            <div align=\"left\", style=\"font-size:120%\">\n",
    "                <font color=\"#21618C\">\n",
    "                    <b>15. Extract the records corresponding to the extreme outliers present in the feature representing the number of bedrooms\n",
    "                    </b>\n",
    "                </font>\n",
    "            </div>\n",
    "        </td>\n",
    "    </tr>\n",
    "</table>"
   ]
  },
  {
   "cell_type": "code",
   "execution_count": 34,
   "metadata": {},
   "outputs": [],
   "source": [
    "# Calculate the mean and standard deviation of the Bedroom feature\n",
    "mean = df_house['Bedroom'].mean()\n",
    "std = df_house['Bedroom'].std()"
   ]
  },
  {
   "cell_type": "code",
   "execution_count": 35,
   "metadata": {},
   "outputs": [],
   "source": [
    "# Calculate the Z-scores for each value in the Bedroom feature\n",
    "z_scores = (df_house['Bedroom'] - mean) / std"
   ]
  },
  {
   "cell_type": "code",
   "execution_count": 36,
   "metadata": {},
   "outputs": [
    {
     "data": {
      "text/html": [
       "<div>\n",
       "<style scoped>\n",
       "    .dataframe tbody tr th:only-of-type {\n",
       "        vertical-align: middle;\n",
       "    }\n",
       "\n",
       "    .dataframe tbody tr th {\n",
       "        vertical-align: top;\n",
       "    }\n",
       "\n",
       "    .dataframe thead th {\n",
       "        text-align: right;\n",
       "    }\n",
       "</style>\n",
       "<table border=\"1\" class=\"dataframe\">\n",
       "  <thead>\n",
       "    <tr style=\"text-align: right;\">\n",
       "      <th></th>\n",
       "      <th>Rooms</th>\n",
       "      <th>Type</th>\n",
       "      <th>Price</th>\n",
       "      <th>Method</th>\n",
       "      <th>Regionname</th>\n",
       "      <th>Bathroom</th>\n",
       "      <th>Car</th>\n",
       "      <th>Landsize</th>\n",
       "      <th>Distance</th>\n",
       "      <th>Bedroom</th>\n",
       "    </tr>\n",
       "  </thead>\n",
       "  <tbody>\n",
       "    <tr>\n",
       "      <th>130</th>\n",
       "      <td>3</td>\n",
       "      <td>h</td>\n",
       "      <td>900000</td>\n",
       "      <td>S</td>\n",
       "      <td>Eastern Metropolitan</td>\n",
       "      <td>1</td>\n",
       "      <td>1</td>\n",
       "      <td>180</td>\n",
       "      <td>21.3</td>\n",
       "      <td>7</td>\n",
       "    </tr>\n",
       "    <tr>\n",
       "      <th>279</th>\n",
       "      <td>3</td>\n",
       "      <td>t</td>\n",
       "      <td>1100000</td>\n",
       "      <td>S</td>\n",
       "      <td>Southern Metropolitan</td>\n",
       "      <td>1</td>\n",
       "      <td>1</td>\n",
       "      <td>0</td>\n",
       "      <td>12.1</td>\n",
       "      <td>8</td>\n",
       "    </tr>\n",
       "    <tr>\n",
       "      <th>467</th>\n",
       "      <td>2</td>\n",
       "      <td>u</td>\n",
       "      <td>612000</td>\n",
       "      <td>S</td>\n",
       "      <td>South-Eastern Metropolitan</td>\n",
       "      <td>1</td>\n",
       "      <td>2</td>\n",
       "      <td>766</td>\n",
       "      <td>27.1</td>\n",
       "      <td>9</td>\n",
       "    </tr>\n",
       "    <tr>\n",
       "      <th>752</th>\n",
       "      <td>3</td>\n",
       "      <td>t</td>\n",
       "      <td>891000</td>\n",
       "      <td>S</td>\n",
       "      <td>Western Metropolitan</td>\n",
       "      <td>1</td>\n",
       "      <td>1</td>\n",
       "      <td>632</td>\n",
       "      <td>18.2</td>\n",
       "      <td>7</td>\n",
       "    </tr>\n",
       "    <tr>\n",
       "      <th>761</th>\n",
       "      <td>1</td>\n",
       "      <td>u</td>\n",
       "      <td>401000</td>\n",
       "      <td>S</td>\n",
       "      <td>Southern Metropolitan</td>\n",
       "      <td>1</td>\n",
       "      <td>2</td>\n",
       "      <td>624</td>\n",
       "      <td>20.6</td>\n",
       "      <td>7</td>\n",
       "    </tr>\n",
       "    <tr>\n",
       "      <th>891</th>\n",
       "      <td>4</td>\n",
       "      <td>h</td>\n",
       "      <td>1200000</td>\n",
       "      <td>S</td>\n",
       "      <td>Eastern Metropolitan</td>\n",
       "      <td>2</td>\n",
       "      <td>1</td>\n",
       "      <td>316</td>\n",
       "      <td>28.4</td>\n",
       "      <td>7</td>\n",
       "    </tr>\n",
       "    <tr>\n",
       "      <th>920</th>\n",
       "      <td>3</td>\n",
       "      <td>h</td>\n",
       "      <td>600000</td>\n",
       "      <td>S</td>\n",
       "      <td>Northern Metropolitan</td>\n",
       "      <td>2</td>\n",
       "      <td>1</td>\n",
       "      <td>281</td>\n",
       "      <td>23.2</td>\n",
       "      <td>7</td>\n",
       "    </tr>\n",
       "    <tr>\n",
       "      <th>1228</th>\n",
       "      <td>3</td>\n",
       "      <td>h</td>\n",
       "      <td>470000</td>\n",
       "      <td>PI</td>\n",
       "      <td>Western Metropolitan</td>\n",
       "      <td>2</td>\n",
       "      <td>2</td>\n",
       "      <td>486</td>\n",
       "      <td>20.9</td>\n",
       "      <td>9</td>\n",
       "    </tr>\n",
       "    <tr>\n",
       "      <th>1816</th>\n",
       "      <td>3</td>\n",
       "      <td>h</td>\n",
       "      <td>1037000</td>\n",
       "      <td>S</td>\n",
       "      <td>Northern Metropolitan</td>\n",
       "      <td>1</td>\n",
       "      <td>1</td>\n",
       "      <td>820</td>\n",
       "      <td>18.7</td>\n",
       "      <td>7</td>\n",
       "    </tr>\n",
       "    <tr>\n",
       "      <th>1937</th>\n",
       "      <td>3</td>\n",
       "      <td>h</td>\n",
       "      <td>496000</td>\n",
       "      <td>S</td>\n",
       "      <td>Western Metropolitan</td>\n",
       "      <td>1</td>\n",
       "      <td>1</td>\n",
       "      <td>0</td>\n",
       "      <td>21.7</td>\n",
       "      <td>30</td>\n",
       "    </tr>\n",
       "    <tr>\n",
       "      <th>1956</th>\n",
       "      <td>4</td>\n",
       "      <td>h</td>\n",
       "      <td>925000</td>\n",
       "      <td>S</td>\n",
       "      <td>Eastern Metropolitan</td>\n",
       "      <td>2</td>\n",
       "      <td>2</td>\n",
       "      <td>477</td>\n",
       "      <td>15.0</td>\n",
       "      <td>7</td>\n",
       "    </tr>\n",
       "    <tr>\n",
       "      <th>3204</th>\n",
       "      <td>3</td>\n",
       "      <td>h</td>\n",
       "      <td>630000</td>\n",
       "      <td>SP</td>\n",
       "      <td>Western Metropolitan</td>\n",
       "      <td>1</td>\n",
       "      <td>1</td>\n",
       "      <td>0</td>\n",
       "      <td>18.6</td>\n",
       "      <td>7</td>\n",
       "    </tr>\n",
       "    <tr>\n",
       "      <th>4241</th>\n",
       "      <td>3</td>\n",
       "      <td>h</td>\n",
       "      <td>825000</td>\n",
       "      <td>S</td>\n",
       "      <td>Eastern Metropolitan</td>\n",
       "      <td>2</td>\n",
       "      <td>2</td>\n",
       "      <td>296</td>\n",
       "      <td>21.2</td>\n",
       "      <td>8</td>\n",
       "    </tr>\n",
       "    <tr>\n",
       "      <th>4249</th>\n",
       "      <td>3</td>\n",
       "      <td>t</td>\n",
       "      <td>750000</td>\n",
       "      <td>S</td>\n",
       "      <td>Western Metropolitan</td>\n",
       "      <td>2</td>\n",
       "      <td>0</td>\n",
       "      <td>311</td>\n",
       "      <td>22.1</td>\n",
       "      <td>8</td>\n",
       "    </tr>\n",
       "  </tbody>\n",
       "</table>\n",
       "</div>"
      ],
      "text/plain": [
       "      Rooms Type    Price Method                  Regionname  Bathroom  Car  \\\n",
       "130       3    h   900000      S        Eastern Metropolitan         1    1   \n",
       "279       3    t  1100000      S       Southern Metropolitan         1    1   \n",
       "467       2    u   612000      S  South-Eastern Metropolitan         1    2   \n",
       "752       3    t   891000      S        Western Metropolitan         1    1   \n",
       "761       1    u   401000      S       Southern Metropolitan         1    2   \n",
       "891       4    h  1200000      S        Eastern Metropolitan         2    1   \n",
       "920       3    h   600000      S       Northern Metropolitan         2    1   \n",
       "1228      3    h   470000     PI        Western Metropolitan         2    2   \n",
       "1816      3    h  1037000      S       Northern Metropolitan         1    1   \n",
       "1937      3    h   496000      S        Western Metropolitan         1    1   \n",
       "1956      4    h   925000      S        Eastern Metropolitan         2    2   \n",
       "3204      3    h   630000     SP        Western Metropolitan         1    1   \n",
       "4241      3    h   825000      S        Eastern Metropolitan         2    2   \n",
       "4249      3    t   750000      S        Western Metropolitan         2    0   \n",
       "\n",
       "      Landsize  Distance  Bedroom  \n",
       "130        180      21.3        7  \n",
       "279          0      12.1        8  \n",
       "467        766      27.1        9  \n",
       "752        632      18.2        7  \n",
       "761        624      20.6        7  \n",
       "891        316      28.4        7  \n",
       "920        281      23.2        7  \n",
       "1228       486      20.9        9  \n",
       "1816       820      18.7        7  \n",
       "1937         0      21.7       30  \n",
       "1956       477      15.0        7  \n",
       "3204         0      18.6        7  \n",
       "4241       296      21.2        8  \n",
       "4249       311      22.1        8  "
      ]
     },
     "execution_count": 36,
     "metadata": {},
     "output_type": "execute_result"
    }
   ],
   "source": [
    "# Identify extreme outliers as values with a Z-score greater than 3 or less than -3\n",
    "extreme_outliers = df_house[(z_scores > 3) | (z_scores < -3)]\n",
    "extreme_outliers "
   ]
  },
  {
   "cell_type": "markdown",
   "metadata": {},
   "source": [
    "The extreme_outliers DataFrame will contain the rows in the original dataset that correspond to extreme outlier values in the Bedroom feature. "
   ]
  },
  {
   "cell_type": "markdown",
   "metadata": {},
   "source": [
    "<a id=\"odt\"> </a>\n",
    "## 4. Treatment of Outliers"
   ]
  },
  {
   "cell_type": "markdown",
   "metadata": {
    "collapsed": true
   },
   "source": [
    "<table align=\"left\">\n",
    "    <tr>\n",
    "        <td width=\"6%\">\n",
    "            <img src=\"question_icon.png\">\n",
    "        </td>\n",
    "        <td>\n",
    "            <div align=\"left\", style=\"font-size:120%\">\n",
    "                <font color=\"#21618C\">\n",
    "                    <b>16. What is the change in the average distance after handling the outliers using IQR method in the feature representing the distance?  \n",
    "</b>\n",
    "                </font>\n",
    "            </div>\n",
    "        </td>\n",
    "    </tr>\n",
    "</table>"
   ]
  },
  {
   "cell_type": "code",
   "execution_count": 37,
   "metadata": {},
   "outputs": [
    {
     "name": "stdout",
     "output_type": "stream",
     "text": [
      "16.5\n",
      "22.2\n"
     ]
    }
   ],
   "source": [
    "original_average_distance = df_house['Distance'].mean()\n",
    "# Calculate the first and third quartiles of the Distance feature\n",
    "q1 = df_house['Distance'].quantile(0.25)\n",
    "q3 = df_house['Distance'].quantile(0.75)\n",
    "print(q1)\n",
    "print(q3)"
   ]
  },
  {
   "cell_type": "code",
   "execution_count": 38,
   "metadata": {},
   "outputs": [
    {
     "name": "stdout",
     "output_type": "stream",
     "text": [
      "5.699999999999999\n"
     ]
    }
   ],
   "source": [
    "# Calculate the IQR as the difference between Q3 and Q1\n",
    "iqr = q3 - q1\n",
    "print(iqr)"
   ]
  },
  {
   "cell_type": "code",
   "execution_count": 39,
   "metadata": {},
   "outputs": [
    {
     "name": "stdout",
     "output_type": "stream",
     "text": [
      "      Rooms Type    Price Method                  Regionname  Bathroom  Car  \\\n",
      "175       5    h  1100000     PI        Eastern Metropolitan         2    1   \n",
      "292       3    h  1400000      S       Southern Metropolitan         2    2   \n",
      "314       2    h  1110000      S       Northern Metropolitan         1    0   \n",
      "343       3    t   667500     SP        Western Metropolitan         2    1   \n",
      "469       6    h  1856000     SP        Eastern Metropolitan         1    1   \n",
      "602       2    h   560000      S       Northern Metropolitan         2    1   \n",
      "617       5    h   870000      S  South-Eastern Metropolitan         1    2   \n",
      "801       4    h  2500000      S       Southern Metropolitan         1    2   \n",
      "887       3    h  1130000      S  South-Eastern Metropolitan         2    2   \n",
      "1032      2    u   670000     PI       Southern Metropolitan         3    2   \n",
      "1034      5    h  2260000      S       Southern Metropolitan         1    2   \n",
      "1332      2    t   675000     SP       Northern Metropolitan         2    1   \n",
      "1513      3    h  1850000     SP        Western Metropolitan         1    2   \n",
      "1603      3    h   590900     PI        Western Metropolitan         2    2   \n",
      "1833      3    h  1680000      S       Southern Metropolitan         1    1   \n",
      "1888      2    h   950000     PI       Southern Metropolitan         2    2   \n",
      "1986      2    h  1330000      S       Southern Metropolitan         1    1   \n",
      "2123      3    h   905000      S       Northern Metropolitan         2    1   \n",
      "2316      3    u   554000      S        Western Metropolitan         1    1   \n",
      "2349      3    h  1035000      S  South-Eastern Metropolitan         1    0   \n",
      "2684      1    u   365000      S       Northern Metropolitan         1    1   \n",
      "3371      2    u   535000      S       Southern Metropolitan         1    3   \n",
      "3551      3    u   810000     SP       Southern Metropolitan         1    1   \n",
      "3834      4    h   760000      S       Northern Metropolitan         2    2   \n",
      "3946      3    h  1150000     VB       Southern Metropolitan         2    2   \n",
      "4129      2    h  1280000      S       Southern Metropolitan         2    2   \n",
      "4333      4    h   740000      S           Northern Victoria         1    2   \n",
      "4489      2    u   530000     VB       Southern Metropolitan         1    2   \n",
      "4627      4    h   590000     SP        Western Metropolitan         1    2   \n",
      "4636      4    h   685000      S        Western Metropolitan         1    1   \n",
      "4710      4    h  1515000      S       Southern Metropolitan         1    2   \n",
      "\n",
      "      Landsize  Distance  Bedroom  \n",
      "175         70      33.1        5  \n",
      "292        277      31.3        4  \n",
      "314        255      31.7        3  \n",
      "343          0       7.5        4  \n",
      "469        581      31.0        3  \n",
      "602        347      31.9        2  \n",
      "617        510      31.3        3  \n",
      "801        603       6.7        2  \n",
      "887        213       6.0        2  \n",
      "1032       742      31.6        2  \n",
      "1034       432       7.0        3  \n",
      "1332       351       6.6        2  \n",
      "1513       776      30.9        5  \n",
      "1603       903      31.5        4  \n",
      "1833         0      31.1        1  \n",
      "1888       183      31.1        3  \n",
      "1986       416       7.1        3  \n",
      "2123         0       7.1        2  \n",
      "2316       553       7.1        2  \n",
      "2349       249       7.8        2  \n",
      "2684         0       5.0        3  \n",
      "3371       632      31.6        3  \n",
      "3551       274      32.6        2  \n",
      "3834         0      31.0        4  \n",
      "3946       315      30.9        4  \n",
      "4129       447      30.9        1  \n",
      "4333       653      32.2        2  \n",
      "4489       274       7.3        3  \n",
      "4627       568      30.9        3  \n",
      "4636       253       6.3        5  \n",
      "4710       847      31.2        3  \n"
     ]
    }
   ],
   "source": [
    "# Identify outliers as values that are less than Q1 - 1.5 * IQR or greater than Q3 + 1.5 * IQR\n",
    "outliers = df_house[(df_house['Distance'] < q1 - 1.5 * iqr) | (df_house['Distance'] > q3 + 1.5 * iqr)]\n",
    "print(outliers)"
   ]
  },
  {
   "cell_type": "code",
   "execution_count": 40,
   "metadata": {},
   "outputs": [
    {
     "data": {
      "text/html": [
       "<div>\n",
       "<style scoped>\n",
       "    .dataframe tbody tr th:only-of-type {\n",
       "        vertical-align: middle;\n",
       "    }\n",
       "\n",
       "    .dataframe tbody tr th {\n",
       "        vertical-align: top;\n",
       "    }\n",
       "\n",
       "    .dataframe thead th {\n",
       "        text-align: right;\n",
       "    }\n",
       "</style>\n",
       "<table border=\"1\" class=\"dataframe\">\n",
       "  <thead>\n",
       "    <tr style=\"text-align: right;\">\n",
       "      <th></th>\n",
       "      <th>Rooms</th>\n",
       "      <th>Type</th>\n",
       "      <th>Price</th>\n",
       "      <th>Method</th>\n",
       "      <th>Regionname</th>\n",
       "      <th>Bathroom</th>\n",
       "      <th>Car</th>\n",
       "      <th>Landsize</th>\n",
       "      <th>Distance</th>\n",
       "      <th>Bedroom</th>\n",
       "    </tr>\n",
       "  </thead>\n",
       "  <tbody>\n",
       "    <tr>\n",
       "      <th>0</th>\n",
       "      <td>3.0</td>\n",
       "      <td>h</td>\n",
       "      <td>1490000</td>\n",
       "      <td>S</td>\n",
       "      <td>Northern Metropolitan</td>\n",
       "      <td>1.0</td>\n",
       "      <td>1.0</td>\n",
       "      <td>126.0</td>\n",
       "      <td>25.2</td>\n",
       "      <td>2.0</td>\n",
       "    </tr>\n",
       "    <tr>\n",
       "      <th>1</th>\n",
       "      <td>3.0</td>\n",
       "      <td>h</td>\n",
       "      <td>1220000</td>\n",
       "      <td>S</td>\n",
       "      <td>Northern Metropolitan</td>\n",
       "      <td>1.0</td>\n",
       "      <td>1.0</td>\n",
       "      <td>202.0</td>\n",
       "      <td>21.8</td>\n",
       "      <td>2.0</td>\n",
       "    </tr>\n",
       "    <tr>\n",
       "      <th>2</th>\n",
       "      <td>3.0</td>\n",
       "      <td>h</td>\n",
       "      <td>1420000</td>\n",
       "      <td>S</td>\n",
       "      <td>Northern Metropolitan</td>\n",
       "      <td>1.0</td>\n",
       "      <td>0.0</td>\n",
       "      <td>156.0</td>\n",
       "      <td>21.7</td>\n",
       "      <td>2.0</td>\n",
       "    </tr>\n",
       "    <tr>\n",
       "      <th>3</th>\n",
       "      <td>3.0</td>\n",
       "      <td>h</td>\n",
       "      <td>1515000</td>\n",
       "      <td>S</td>\n",
       "      <td>Western Metropolitan</td>\n",
       "      <td>2.0</td>\n",
       "      <td>1.0</td>\n",
       "      <td>0.0</td>\n",
       "      <td>18.8</td>\n",
       "      <td>3.0</td>\n",
       "    </tr>\n",
       "    <tr>\n",
       "      <th>4</th>\n",
       "      <td>2.0</td>\n",
       "      <td>h</td>\n",
       "      <td>670000</td>\n",
       "      <td>S</td>\n",
       "      <td>Western Metropolitan</td>\n",
       "      <td>2.0</td>\n",
       "      <td>0.0</td>\n",
       "      <td>134.0</td>\n",
       "      <td>20.6</td>\n",
       "      <td>3.0</td>\n",
       "    </tr>\n",
       "    <tr>\n",
       "      <th>...</th>\n",
       "      <td>...</td>\n",
       "      <td>...</td>\n",
       "      <td>...</td>\n",
       "      <td>...</td>\n",
       "      <td>...</td>\n",
       "      <td>...</td>\n",
       "      <td>...</td>\n",
       "      <td>...</td>\n",
       "      <td>...</td>\n",
       "      <td>...</td>\n",
       "    </tr>\n",
       "    <tr>\n",
       "      <th>4761</th>\n",
       "      <td>3.0</td>\n",
       "      <td>h</td>\n",
       "      <td>1150000</td>\n",
       "      <td>VB</td>\n",
       "      <td>Southern Metropolitan</td>\n",
       "      <td>2.0</td>\n",
       "      <td>1.0</td>\n",
       "      <td>305.0</td>\n",
       "      <td>18.7</td>\n",
       "      <td>3.0</td>\n",
       "    </tr>\n",
       "    <tr>\n",
       "      <th>4762</th>\n",
       "      <td>3.0</td>\n",
       "      <td>h</td>\n",
       "      <td>712000</td>\n",
       "      <td>S</td>\n",
       "      <td>South-Eastern Metropolitan</td>\n",
       "      <td>1.0</td>\n",
       "      <td>0.0</td>\n",
       "      <td>105.0</td>\n",
       "      <td>16.0</td>\n",
       "      <td>4.0</td>\n",
       "    </tr>\n",
       "    <tr>\n",
       "      <th>4763</th>\n",
       "      <td>4.0</td>\n",
       "      <td>h</td>\n",
       "      <td>800000</td>\n",
       "      <td>S</td>\n",
       "      <td>South-Eastern Metropolitan</td>\n",
       "      <td>1.0</td>\n",
       "      <td>0.0</td>\n",
       "      <td>120.0</td>\n",
       "      <td>24.5</td>\n",
       "      <td>3.0</td>\n",
       "    </tr>\n",
       "    <tr>\n",
       "      <th>4764</th>\n",
       "      <td>3.0</td>\n",
       "      <td>u</td>\n",
       "      <td>747000</td>\n",
       "      <td>S</td>\n",
       "      <td>South-Eastern Metropolitan</td>\n",
       "      <td>1.0</td>\n",
       "      <td>1.0</td>\n",
       "      <td>0.0</td>\n",
       "      <td>22.9</td>\n",
       "      <td>3.0</td>\n",
       "    </tr>\n",
       "    <tr>\n",
       "      <th>4765</th>\n",
       "      <td>3.0</td>\n",
       "      <td>h</td>\n",
       "      <td>800000</td>\n",
       "      <td>SP</td>\n",
       "      <td>South-Eastern Metropolitan</td>\n",
       "      <td>1.0</td>\n",
       "      <td>1.0</td>\n",
       "      <td>0.0</td>\n",
       "      <td>13.7</td>\n",
       "      <td>3.0</td>\n",
       "    </tr>\n",
       "  </tbody>\n",
       "</table>\n",
       "<p>4735 rows × 10 columns</p>\n",
       "</div>"
      ],
      "text/plain": [
       "      Rooms Type    Price Method                  Regionname  Bathroom  Car  \\\n",
       "0       3.0    h  1490000      S       Northern Metropolitan       1.0  1.0   \n",
       "1       3.0    h  1220000      S       Northern Metropolitan       1.0  1.0   \n",
       "2       3.0    h  1420000      S       Northern Metropolitan       1.0  0.0   \n",
       "3       3.0    h  1515000      S        Western Metropolitan       2.0  1.0   \n",
       "4       2.0    h   670000      S        Western Metropolitan       2.0  0.0   \n",
       "...     ...  ...      ...    ...                         ...       ...  ...   \n",
       "4761    3.0    h  1150000     VB       Southern Metropolitan       2.0  1.0   \n",
       "4762    3.0    h   712000      S  South-Eastern Metropolitan       1.0  0.0   \n",
       "4763    4.0    h   800000      S  South-Eastern Metropolitan       1.0  0.0   \n",
       "4764    3.0    u   747000      S  South-Eastern Metropolitan       1.0  1.0   \n",
       "4765    3.0    h   800000     SP  South-Eastern Metropolitan       1.0  1.0   \n",
       "\n",
       "      Landsize  Distance  Bedroom  \n",
       "0        126.0      25.2      2.0  \n",
       "1        202.0      21.8      2.0  \n",
       "2        156.0      21.7      2.0  \n",
       "3          0.0      18.8      3.0  \n",
       "4        134.0      20.6      3.0  \n",
       "...        ...       ...      ...  \n",
       "4761     305.0      18.7      3.0  \n",
       "4762     105.0      16.0      4.0  \n",
       "4763     120.0      24.5      3.0  \n",
       "4764       0.0      22.9      3.0  \n",
       "4765       0.0      13.7      3.0  \n",
       "\n",
       "[4735 rows x 10 columns]"
      ]
     },
     "execution_count": 40,
     "metadata": {},
     "output_type": "execute_result"
    }
   ],
   "source": [
    "# Remove the identified outliers from the dataset\n",
    "df_house1 = df_house[~df_house.isin(outliers)].dropna()\n",
    "df_house1"
   ]
  },
  {
   "cell_type": "code",
   "execution_count": 41,
   "metadata": {},
   "outputs": [
    {
     "data": {
      "text/plain": [
       "19.311425554382247"
      ]
     },
     "execution_count": 41,
     "metadata": {},
     "output_type": "execute_result"
    }
   ],
   "source": [
    "# Calculate the average distance after handling the outliers\n",
    "average_distance = df_house1['Distance'].mean()\n",
    "average_distance"
   ]
  },
  {
   "cell_type": "code",
   "execution_count": 42,
   "metadata": {},
   "outputs": [
    {
     "data": {
      "text/plain": [
       "-0.016921067522904565"
      ]
     },
     "execution_count": 42,
     "metadata": {},
     "output_type": "execute_result"
    }
   ],
   "source": [
    "# Calculate the change in the average distance\n",
    "# Calculate the original average distance\n",
    "change_in_average_distance = average_distance - original_average_distance\n",
    "change_in_average_distance"
   ]
  },
  {
   "cell_type": "markdown",
   "metadata": {
    "collapsed": true
   },
   "source": [
    "<table align=\"left\">\n",
    "    <tr>\n",
    "        <td width=\"6%\">\n",
    "            <img src=\"question_icon.png\">\n",
    "        </td>\n",
    "        <td>\n",
    "            <div align=\"left\", style=\"font-size:120%\">\n",
    "                <font color=\"#21618C\">\n",
    "                    <b>17. What should be the range (K*IQR) considered to eliminate the extreme outliers for the feature representing the house price? \n",
    "</b>\n",
    "                </font>\n",
    "            </div>\n",
    "        </td>\n",
    "    </tr>\n",
    "</table>"
   ]
  },
  {
   "cell_type": "code",
   "execution_count": 43,
   "metadata": {},
   "outputs": [
    {
     "data": {
      "text/plain": [
       "936375.0"
      ]
     },
     "execution_count": 43,
     "metadata": {},
     "output_type": "execute_result"
    }
   ],
   "source": [
    "# Set the value of K\n",
    "K = 1.5\n",
    "\n",
    "# Calculate the IQR for the Price feature\n",
    "q1 = df_house['Price'].quantile(0.25)\n",
    "q3 = df_house['Price'].quantile(0.75)\n",
    "iqr = q3 - q1\n",
    "\n",
    "# Remove extreme outliers from the Price feature\n",
    "df_house2 = df_house[(df_house['Price'] > (q1 - K * iqr)) & (df_house['Price'] < (q3 + K * iqr))]\n",
    "K*iqr"
   ]
  },
  {
   "cell_type": "markdown",
   "metadata": {},
   "source": [
    "<a id=\"fe\"> </a>\n",
    "## 5. Feature Engineering"
   ]
  },
  {
   "cell_type": "markdown",
   "metadata": {
    "collapsed": true
   },
   "source": [
    "<table align=\"left\">\n",
    "    <tr>\n",
    "        <td width=\"6%\">\n",
    "            <img src=\"question_icon.png\">\n",
    "        </td>\n",
    "        <td>\n",
    "            <div align=\"left\", style=\"font-size:120%\">\n",
    "                <font color=\"#21618C\">\n",
    "                    <b>18. Categorize the houses in three groups based on their distance from CBD and create a new feature containing the group labels\n",
    "</b>\n",
    "                </font>\n",
    "            </div>\n",
    "        </td>\n",
    "    </tr>\n",
    "</table>"
   ]
  },
  {
   "cell_type": "code",
   "execution_count": 44,
   "metadata": {},
   "outputs": [
    {
     "name": "stdout",
     "output_type": "stream",
     "text": [
      "0       Medium\n",
      "1       Medium\n",
      "2       Medium\n",
      "3       Medium\n",
      "4       Medium\n",
      "         ...  \n",
      "4761    Medium\n",
      "4762    Medium\n",
      "4763    Medium\n",
      "4764    Medium\n",
      "4765    Medium\n",
      "Name: Distance_Group, Length: 4766, dtype: object\n"
     ]
    }
   ],
   "source": [
    "# Calculate the IQR of the Distance feature\n",
    "iqr = df_house['Distance'].quantile(0.75) - df_house['Distance'].quantile(0.25)\n",
    "\n",
    "# Find the lower and upper bounds of the range using the IQR and the first and third quartiles\n",
    "lower_bound = df_house['Distance'].quantile(0.25) - (1.5 * iqr)\n",
    "upper_bound = df_house['Distance'].quantile(0.75) + (1.5 * iqr)\n",
    "\n",
    "# Create the Distance_Group feature\n",
    "df_house['Distance_Group'] = 'Low'\n",
    "df_house.loc[(df_house['Distance'] >= lower_bound) & (df_house['Distance'] < upper_bound), 'Distance_Group'] = 'Medium'\n",
    "df_house.loc[df_house['Distance'] >= upper_bound, 'Distance_Group'] = 'High'\n",
    "print(df_house['Distance_Group'])"
   ]
  },
  {
   "cell_type": "markdown",
   "metadata": {
    "collapsed": true
   },
   "source": [
    "<table align=\"left\">\n",
    "    <tr>\n",
    "        <td width=\"6%\">\n",
    "            <img src=\"question_icon.png\">\n",
    "        </td>\n",
    "        <td>\n",
    "            <div align=\"left\", style=\"font-size:120%\">\n",
    "                <font color=\"#21618C\">\n",
    "                    <b>19. Compare the house prices based on the different distance levels \n",
    "</b>\n",
    "                </font>\n",
    "            </div>\n",
    "        </td>\n",
    "    </tr>\n",
    "</table>"
   ]
  },
  {
   "cell_type": "code",
   "execution_count": 45,
   "metadata": {},
   "outputs": [],
   "source": [
    "# Categorize houses into three groups based on distance from CBD\n",
    "def distance_level(distance):\n",
    "  if distance <= 5:\n",
    "    return 'Near'\n",
    "  elif distance <= 15:\n",
    "    return 'Moderate'\n",
    "  else:\n",
    "    return 'Far'\n",
    "\n",
    "df_house['Distance_Level'] = df_house['Distance'].apply(distance_level)"
   ]
  },
  {
   "cell_type": "code",
   "execution_count": 46,
   "metadata": {},
   "outputs": [
    {
     "name": "stdout",
     "output_type": "stream",
     "text": [
      "Distance_Level\n",
      "Far         1.018983e+06\n",
      "Moderate    1.023655e+06\n",
      "Near        3.650000e+05\n",
      "Name: Price, dtype: float64\n"
     ]
    }
   ],
   "source": [
    "# Group the data by Distance_Group and calculate the mean price for each group\n",
    "mean_price_by_distance = df_house.groupby('Distance_Level')['Price'].mean()\n",
    "print(mean_price_by_distance)"
   ]
  },
  {
   "cell_type": "code",
   "execution_count": 47,
   "metadata": {},
   "outputs": [
    {
     "data": {
      "text/plain": [
       "<pandas.core.groupby.generic.DataFrameGroupBy object at 0x000001AC9DCC65E0>"
      ]
     },
     "execution_count": 47,
     "metadata": {},
     "output_type": "execute_result"
    }
   ],
   "source": [
    "df_grouped = df_house.groupby('Distance_Level')\n",
    "df_grouped"
   ]
  },
  {
   "cell_type": "code",
   "execution_count": 48,
   "metadata": {},
   "outputs": [
    {
     "data": {
      "text/plain": [
       "Index(['Rooms', 'Type', 'Price', 'Method', 'Regionname', 'Bathroom', 'Car',\n",
       "       'Landsize', 'Distance', 'Bedroom', 'Distance_Group', 'Distance_Level'],\n",
       "      dtype='object')"
      ]
     },
     "execution_count": 48,
     "metadata": {},
     "output_type": "execute_result"
    }
   ],
   "source": [
    "df_house.columns"
   ]
  },
  {
   "cell_type": "code",
   "execution_count": 49,
   "metadata": {},
   "outputs": [
    {
     "data": {
      "text/plain": [
       "<AxesSubplot:title={'center':'Price'}, xlabel='Distance_Level'>"
      ]
     },
     "execution_count": 49,
     "metadata": {},
     "output_type": "execute_result"
    },
    {
     "data": {
      "image/png": "[encoded data removed]",
      "text/plain": [
       "<Figure size 1296x504 with 1 Axes>"
      ]
     },
     "metadata": {
      "needs_background": "light"
     },
     "output_type": "display_data"
    }
   ],
   "source": [
    "df_house.boxplot(column='Price', by='Distance_Level')"
   ]
  },
  {
   "cell_type": "markdown",
   "metadata": {},
   "source": [
    "<a id=\"split\"> </a>\n",
    "## 6. Train-Test Split"
   ]
  },
  {
   "cell_type": "markdown",
   "metadata": {
    "collapsed": true
   },
   "source": [
    "<table align=\"left\">\n",
    "    <tr>\n",
    "        <td width=\"6%\">\n",
    "            <img src=\"question_icon.png\">\n",
    "        </td>\n",
    "        <td>\n",
    "            <div align=\"left\", style=\"font-size:120%\">\n",
    "                <font color=\"#21618C\">\n",
    "                    <b>20. Split the price of houses in the proportion 80:20 \n",
    "</b>\n",
    "                </font>\n",
    "            </div>\n",
    "        </td>\n",
    "    </tr>\n",
    "</table>"
   ]
  },
  {
   "cell_type": "code",
   "execution_count": 51,
   "metadata": {},
   "outputs": [],
   "source": [
    "from sklearn.model_selection import train_test_split\n",
    "X = df_house[['Rooms', 'Type', 'Distance']]\n",
    "y = df_house['Price']\n",
    "# Split the data into training and test sets\n",
    "X_train, X_test, y_train, y_test = train_test_split(X, y, test_size=0.2)"
   ]
  },
  {
   "cell_type": "code",
   "execution_count": 52,
   "metadata": {},
   "outputs": [
    {
     "name": "stdout",
     "output_type": "stream",
     "text": [
      "X_train:       Rooms Type  Distance\n",
      "1382      4    h      22.1\n",
      "3443      4    h       9.5\n",
      "1117      3    h      13.0\n",
      "1871      2    h      18.1\n",
      "2893      4    h      14.3\n",
      "...     ...  ...       ...\n",
      "3314      4    h      14.0\n",
      "3053      3    t      21.5\n",
      "2323      5    h      22.9\n",
      "4682      3    h       9.9\n",
      "1111      2    u      19.9\n",
      "\n",
      "[3812 rows x 3 columns]\n",
      "X_test:       Rooms Type  Distance\n",
      "267       1    u      25.5\n",
      "3513      3    t      18.7\n",
      "4602      3    h      20.1\n",
      "61        4    h      16.6\n",
      "4650      5    h      18.5\n",
      "...     ...  ...       ...\n",
      "4355      3    h      17.4\n",
      "3343      2    u       9.9\n",
      "4378      2    h      19.6\n",
      "3394      3    h      14.6\n",
      "146       3    h      16.2\n",
      "\n",
      "[954 rows x 3 columns]\n",
      "y_train: 1382     850000\n",
      "3443    2640000\n",
      "1117    1265000\n",
      "1871    1286000\n",
      "2893     890000\n",
      "         ...   \n",
      "3314     955000\n",
      "3053    1020000\n",
      "2323    1550000\n",
      "4682    2400000\n",
      "1111     691000\n",
      "Name: Price, Length: 3812, dtype: object\n",
      "y_test: 267      420000\n",
      "3513    1750000\n",
      "4602    1410000\n",
      "61      1150000\n",
      "4650    1330000\n",
      "         ...   \n",
      "4355     616000\n",
      "3343     479000\n",
      "4378     574000\n",
      "3394    2000000\n",
      "146     1430000\n",
      "Name: Price, Length: 954, dtype: object\n"
     ]
    }
   ],
   "source": [
    "print(\"X_train:\", X_train)\n",
    "print(\"X_test:\", X_test)\n",
    "print(\"y_train:\", y_train)\n",
    "print(\"y_test:\", y_test)"
   ]
  },
  {
   "cell_type": "code",
   "execution_count": null,
   "metadata": {},
   "outputs": [],
   "source": []
  }
 ],
 "metadata": {
  "kernelspec": {
   "display_name": "Python 3 (ipykernel)",
   "language": "python",
   "name": "python3"
  },
  "language_info": {
   "codemirror_mode": {
    "name": "ipython",
    "version": 3
   },
   "file_extension": ".py",
   "mimetype": "text/x-python",
   "name": "python",
   "nbconvert_exporter": "python",
   "pygments_lexer": "ipython3",
   "version": "3.9.12"
  }
 },
 "nbformat": 4,
 "nbformat_minor": 2
}
