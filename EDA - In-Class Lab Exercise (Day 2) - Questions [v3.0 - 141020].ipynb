{
 "cells": [
  {
   "cell_type": "markdown",
   "metadata": {},
   "source": [
    "<table align=\"center\" width=100%>\n",
    "    <tr>\n",
    "        <td width=\"15%\">\n",
    "            <img src=\"in_class.png\">\n",
    "        </td>\n",
    "        <td>\n",
    "            <div align=\"center\">\n",
    "                <font color=\"#21618C\" size=8px>\n",
    "                    <b> Inclass - Lab <br>(Day 2)\n",
    "                    </b>\n",
    "                </font>\n",
    "            </div>\n",
    "        </td>\n",
    "    </tr>\n",
    "</table>"
   ]
  },
  {
   "cell_type": "markdown",
   "metadata": {},
   "source": [
    "### About the dataset (Health Insurance Data)\n",
    "\n",
    "The dataset contains information about 1300 individuals regarding insurance charges. The data contains an individual's basic information like age, sex, bmi, the region of residence and so on. \n",
    "\n",
    "Attribute Information:\n",
    "\n",
    "**age**: Age of the individual\n",
    "\n",
    "**gender**: Gender of the individual\n",
    "\n",
    "**bmi**: Body mass index of the individual\n",
    "\n",
    "**bp**: Systolic blood pressure in mm/hg\n",
    "\n",
    "**children**: Number of children of the individual\n",
    "\n",
    "**smoker**: Individual is smoker or not\n",
    "\n",
    "**region**: Individual's region of residence\n",
    "\n",
    "**medical_cost**: Individual's medical costs billed by the insurance company"
   ]
  },
  {
   "cell_type": "markdown",
   "metadata": {},
   "source": [
    "##  Table of Content\n",
    "\n",
    "1. **[Univariate Analysis](#uni)**\n",
    "2. **[Multivariate Analysis](#multi)**\n",
    "3. **[Handle Non-Numeric Data](#cat)**\n",
    "4. **[Normalization](#norm)**\n",
    "5. **[Transformation Techniques](#trans)**"
   ]
  },
  {
   "cell_type": "markdown",
   "metadata": {},
   "source": [
    "**Import the required libraries**"
   ]
  },
  {
   "cell_type": "code",
   "execution_count": 1,
   "metadata": {},
   "outputs": [
    {
     "data": {
      "text/html": [
       "<div>\n",
       "<style scoped>\n",
       "    .dataframe tbody tr th:only-of-type {\n",
       "        vertical-align: middle;\n",
       "    }\n",
       "\n",
       "    .dataframe tbody tr th {\n",
       "        vertical-align: top;\n",
       "    }\n",
       "\n",
       "    .dataframe thead th {\n",
       "        text-align: right;\n",
       "    }\n",
       "</style>\n",
       "<table border=\"1\" class=\"dataframe\">\n",
       "  <thead>\n",
       "    <tr style=\"text-align: right;\">\n",
       "      <th></th>\n",
       "      <th>age</th>\n",
       "      <th>gender</th>\n",
       "      <th>bmi</th>\n",
       "      <th>bp</th>\n",
       "      <th>children</th>\n",
       "      <th>region</th>\n",
       "      <th>smoker</th>\n",
       "      <th>medical_cost</th>\n",
       "    </tr>\n",
       "  </thead>\n",
       "  <tbody>\n",
       "    <tr>\n",
       "      <th>0</th>\n",
       "      <td>23</td>\n",
       "      <td>M</td>\n",
       "      <td>31.900</td>\n",
       "      <td>157</td>\n",
       "      <td>0</td>\n",
       "      <td>southwest</td>\n",
       "      <td>smoker</td>\n",
       "      <td>16884.92400</td>\n",
       "    </tr>\n",
       "    <tr>\n",
       "      <th>1</th>\n",
       "      <td>20</td>\n",
       "      <td>F</td>\n",
       "      <td>36.770</td>\n",
       "      <td>160</td>\n",
       "      <td>1</td>\n",
       "      <td>southeast</td>\n",
       "      <td>non-smoker</td>\n",
       "      <td>1725.55230</td>\n",
       "    </tr>\n",
       "    <tr>\n",
       "      <th>2</th>\n",
       "      <td>33</td>\n",
       "      <td>F</td>\n",
       "      <td>35.000</td>\n",
       "      <td>145</td>\n",
       "      <td>3</td>\n",
       "      <td>southeast</td>\n",
       "      <td>non-smoker</td>\n",
       "      <td>4449.46200</td>\n",
       "    </tr>\n",
       "    <tr>\n",
       "      <th>3</th>\n",
       "      <td>37</td>\n",
       "      <td>F</td>\n",
       "      <td>23.705</td>\n",
       "      <td>153</td>\n",
       "      <td>0</td>\n",
       "      <td>northwest</td>\n",
       "      <td>non-smoker</td>\n",
       "      <td>21984.47061</td>\n",
       "    </tr>\n",
       "    <tr>\n",
       "      <th>4</th>\n",
       "      <td>36</td>\n",
       "      <td>F</td>\n",
       "      <td>27.880</td>\n",
       "      <td>156</td>\n",
       "      <td>0</td>\n",
       "      <td>northwest</td>\n",
       "      <td>non-smoker</td>\n",
       "      <td>3866.85520</td>\n",
       "    </tr>\n",
       "  </tbody>\n",
       "</table>\n",
       "</div>"
      ],
      "text/plain": [
       "   age gender     bmi  bp   children     region      smoker  medical_cost\n",
       "0   23      M  31.900  157         0  southwest      smoker   16884.92400\n",
       "1   20      F  36.770  160         1  southeast  non-smoker    1725.55230\n",
       "2   33      F  35.000  145         3  southeast  non-smoker    4449.46200\n",
       "3   37      F  23.705  153         0  northwest  non-smoker   21984.47061\n",
       "4   36      F  27.880  156         0  northwest  non-smoker    3866.85520"
      ]
     },
     "execution_count": 1,
     "metadata": {},
     "output_type": "execute_result"
    }
   ],
   "source": [
    "import numpy as np \n",
    "import pandas as pd\n",
    "import matplotlib.pyplot as plt\n",
    "import seaborn as sns\n",
    "import warnings\n",
    "warnings.filterwarnings(\"ignore\")\n",
    "df=pd.read_csv(\"health_insurance.csv\")\n",
    "df.head()"
   ]
  },
  {
   "cell_type": "markdown",
   "metadata": {},
   "source": [
    "#### Load the health insurance dataset and check the first five observations"
   ]
  },
  {
   "cell_type": "code",
   "execution_count": 2,
   "metadata": {},
   "outputs": [
    {
     "data": {
      "text/html": [
       "<div>\n",
       "<style scoped>\n",
       "    .dataframe tbody tr th:only-of-type {\n",
       "        vertical-align: middle;\n",
       "    }\n",
       "\n",
       "    .dataframe tbody tr th {\n",
       "        vertical-align: top;\n",
       "    }\n",
       "\n",
       "    .dataframe thead th {\n",
       "        text-align: right;\n",
       "    }\n",
       "</style>\n",
       "<table border=\"1\" class=\"dataframe\">\n",
       "  <thead>\n",
       "    <tr style=\"text-align: right;\">\n",
       "      <th></th>\n",
       "      <th>age</th>\n",
       "      <th>gender</th>\n",
       "      <th>bmi</th>\n",
       "      <th>bp</th>\n",
       "      <th>children</th>\n",
       "      <th>region</th>\n",
       "      <th>smoker</th>\n",
       "      <th>medical_cost</th>\n",
       "    </tr>\n",
       "  </thead>\n",
       "  <tbody>\n",
       "    <tr>\n",
       "      <th>0</th>\n",
       "      <td>23</td>\n",
       "      <td>M</td>\n",
       "      <td>31.900</td>\n",
       "      <td>157</td>\n",
       "      <td>0</td>\n",
       "      <td>southwest</td>\n",
       "      <td>smoker</td>\n",
       "      <td>16884.92400</td>\n",
       "    </tr>\n",
       "    <tr>\n",
       "      <th>1</th>\n",
       "      <td>20</td>\n",
       "      <td>F</td>\n",
       "      <td>36.770</td>\n",
       "      <td>160</td>\n",
       "      <td>1</td>\n",
       "      <td>southeast</td>\n",
       "      <td>non-smoker</td>\n",
       "      <td>1725.55230</td>\n",
       "    </tr>\n",
       "    <tr>\n",
       "      <th>2</th>\n",
       "      <td>33</td>\n",
       "      <td>F</td>\n",
       "      <td>35.000</td>\n",
       "      <td>145</td>\n",
       "      <td>3</td>\n",
       "      <td>southeast</td>\n",
       "      <td>non-smoker</td>\n",
       "      <td>4449.46200</td>\n",
       "    </tr>\n",
       "    <tr>\n",
       "      <th>3</th>\n",
       "      <td>37</td>\n",
       "      <td>F</td>\n",
       "      <td>23.705</td>\n",
       "      <td>153</td>\n",
       "      <td>0</td>\n",
       "      <td>northwest</td>\n",
       "      <td>non-smoker</td>\n",
       "      <td>21984.47061</td>\n",
       "    </tr>\n",
       "    <tr>\n",
       "      <th>4</th>\n",
       "      <td>36</td>\n",
       "      <td>F</td>\n",
       "      <td>27.880</td>\n",
       "      <td>156</td>\n",
       "      <td>0</td>\n",
       "      <td>northwest</td>\n",
       "      <td>non-smoker</td>\n",
       "      <td>3866.85520</td>\n",
       "    </tr>\n",
       "  </tbody>\n",
       "</table>\n",
       "</div>"
      ],
      "text/plain": [
       "   age gender     bmi  bp   children     region      smoker  medical_cost\n",
       "0   23      M  31.900  157         0  southwest      smoker   16884.92400\n",
       "1   20      F  36.770  160         1  southeast  non-smoker    1725.55230\n",
       "2   33      F  35.000  145         3  southeast  non-smoker    4449.46200\n",
       "3   37      F  23.705  153         0  northwest  non-smoker   21984.47061\n",
       "4   36      F  27.880  156         0  northwest  non-smoker    3866.85520"
      ]
     },
     "execution_count": 2,
     "metadata": {},
     "output_type": "execute_result"
    }
   ],
   "source": [
    "df.head()"
   ]
  },
  {
   "cell_type": "markdown",
   "metadata": {},
   "source": [
    "### Let's begin with some hands-on practice exercises"
   ]
  },
  {
   "cell_type": "markdown",
   "metadata": {},
   "source": [
    "<a id=\"uni\"> </a>\n",
    "## 1. Univariate Analysis"
   ]
  },
  {
   "cell_type": "markdown",
   "metadata": {
    "collapsed": true
   },
   "source": [
    "<table align=\"left\">\n",
    "    <tr>\n",
    "        <td width=\"6%\">\n",
    "            <img src=\"question_icon.png\">\n",
    "        </td>\n",
    "        <td>\n",
    "            <div align=\"left\", style=\"font-size:120%\">\n",
    "                <font color=\"#21618C\">\n",
    "                    <b>1. Are there any extreme observations present in 'bmi'? Support your answer with a plot\n",
    "</b>\n",
    "                </font>\n",
    "            </div>\n",
    "        </td>\n",
    "    </tr>\n",
    "</table>"
   ]
  },
  {
   "cell_type": "code",
   "execution_count": 3,
   "metadata": {},
   "outputs": [
    {
     "data": {
      "image/png": "[encoded data removed]",
      "text/plain": [
       "<Figure size 1296x504 with 1 Axes>"
      ]
     },
     "metadata": {
      "needs_background": "light"
     },
     "output_type": "display_data"
    }
   ],
   "source": [
    "# set the plot size\n",
    "plt.figure(figsize = (18,7))\n",
    "# plot a boxplot to check the presence of outliers \n",
    "sns.boxplot(df['bmi'].dropna(), color = 'pink')\n",
    "# add plot and axes labels & set text size using 'fontsize'\n",
    "plt.title('Body Mass Index', fontsize = 12)\n",
    "plt.xlabel('Total BMI in percentage', fontsize = 12)\n",
    "plt.show()"
   ]
  },
  {
   "cell_type": "code",
   "execution_count": 5,
   "metadata": {},
   "outputs": [
    {
     "name": "stdout",
     "output_type": "stream",
     "text": [
      "47.91062499999999\n",
      "14.785625000000005\n",
      "8.281249999999996\n"
     ]
    }
   ],
   "source": [
    "#Any-percentage-above-12.5-is-considered-as-an-outlier-in-the-data.len(DataFrame['Total expenditure'])\n",
    "Q1 = df['bmi'].quantile(0.25)\n",
    "Q3 = df['bmi'].quantile(0.75)\n",
    "IQR = Q3 - Q1\n",
    "df_ubl = Q3 + (1.5 * IQR)\n",
    "df_lbl = Q1 - (1.5 * IQR)\n",
    "print(df_ubl)\n",
    "print(df_lbl)\n",
    "print(IQR)"
   ]
  },
  {
   "cell_type": "code",
   "execution_count": 48,
   "metadata": {},
   "outputs": [
    {
     "name": "stdout",
     "output_type": "stream",
     "text": [
      "Number of extreme observations present from:\n",
      "47.91062499999999 is considered as extreme values of bmi\n"
     ]
    }
   ],
   "source": [
    "\n",
    "extreme_values = df_ubl\n",
    "print(f'Number of extreme observations present from:\\n{extreme_values}' \" is considered as extreme values of bmi\")"
   ]
  },
  {
   "cell_type": "code",
   "execution_count": 7,
   "metadata": {},
   "outputs": [
    {
     "name": "stdout",
     "output_type": "stream",
     "text": [
      "count    1300.000000\n",
      "mean       31.581396\n",
      "std         6.356487\n",
      "min        15.290000\n",
      "25%        27.207500\n",
      "50%        31.645000\n",
      "75%        35.488750\n",
      "max        57.130000\n",
      "Name: bmi, dtype: float64\n"
     ]
    }
   ],
   "source": [
    "# Print some basic statistics about the 'bmi' column\n",
    "print(df['bmi'].describe())"
   ]
  },
  {
   "cell_type": "markdown",
   "metadata": {
    "collapsed": true
   },
   "source": [
    "<table align=\"left\">\n",
    "    <tr>\n",
    "        <td width=\"6%\">\n",
    "            <img src=\"question_icon.png\">\n",
    "        </td>\n",
    "        <td>\n",
    "            <div align=\"left\", style=\"font-size:120%\">\n",
    "                <font color=\"#21618C\">\n",
    "                    <b>2. Is the variable 'age' skewed? Support your answer with a plot and metric</b>\n",
    "                </font>\n",
    "            </div>\n",
    "        </td>\n",
    "    </tr>\n",
    "</table>"
   ]
  },
  {
   "cell_type": "code",
   "execution_count": 8,
   "metadata": {},
   "outputs": [
    {
     "data": {
      "image/png": "[encoded data removed]",
      "text/plain": [
       "<Figure size 432x288 with 1 Axes>"
      ]
     },
     "metadata": {
      "needs_background": "light"
     },
     "output_type": "display_data"
    },
    {
     "name": "stdout",
     "output_type": "stream",
     "text": [
      "Skewness: 0.04\n"
     ]
    }
   ],
   "source": [
    "# Create a histogram of the 'age' column\n",
    "sns.histplot(df['age'])\n",
    "\n",
    "# Show the plot\n",
    "plt.show()\n",
    "\n",
    "# Calculate the skewness of the 'age' column\n",
    "skewness = df['age'].skew()\n",
    "print(f'Skewness: {skewness:.2f}')"
   ]
  },
  {
   "cell_type": "code",
   "execution_count": 9,
   "metadata": {},
   "outputs": [
    {
     "name": "stdout",
     "output_type": "stream",
     "text": [
      "Mean: 42.28\n",
      "Median: 42.00\n",
      "Standard deviation: 14.02\n",
      "Mean and median are not significantly different\n"
     ]
    }
   ],
   "source": [
    "# Calculate the mean, median, and standard deviation of the 'age' column\n",
    "mean = df['age'].mean()\n",
    "median = df['age'].median()\n",
    "std = df['age'].std()\n",
    "\n",
    "# Print the results\n",
    "print(f'Mean: {mean:.2f}')\n",
    "print(f'Median: {median:.2f}')\n",
    "print(f'Standard deviation: {std:.2f}')\n",
    "\n",
    "# Check if the mean and median are significantly different\n",
    "if abs(mean - median) > std:\n",
    "    print('Mean and median are significantly different')\n",
    "else:\n",
    "    print('Mean and median are not significantly different')"
   ]
  },
  {
   "cell_type": "markdown",
   "metadata": {
    "collapsed": true
   },
   "source": [
    "<table align=\"left\">\n",
    "    <tr>\n",
    "        <td width=\"6%\">\n",
    "            <img src=\"question_icon.png\">\n",
    "        </td>\n",
    "        <td>\n",
    "            <div align=\"left\", style=\"font-size:120%\">\n",
    "                <font color=\"#21618C\">\n",
    "                    <b>3. What is the probability that the individuals have charged less than 25k for medical treatment? Support your answer with the plot</b>\n",
    "                </font>\n",
    "            </div>\n",
    "        </td>\n",
    "    </tr>\n",
    "</table>"
   ]
  },
  {
   "cell_type": "code",
   "execution_count": 10,
   "metadata": {},
   "outputs": [
    {
     "data": {
      "text/plain": [
       "Index(['age', 'gender', 'bmi', 'bp ', 'children', 'region', 'smoker',\n",
       "       'medical_cost'],\n",
       "      dtype='object')"
      ]
     },
     "execution_count": 10,
     "metadata": {},
     "output_type": "execute_result"
    }
   ],
   "source": [
    "df.columns"
   ]
  },
  {
   "cell_type": "code",
   "execution_count": 11,
   "metadata": {},
   "outputs": [
    {
     "name": "stdout",
     "output_type": "stream",
     "text": [
      "Probability of charges less than 25,000: 0.85\n"
     ]
    },
    {
     "data": {
      "image/png": "[encoded data removed]",
      "text/plain": [
       "<Figure size 432x288 with 1 Axes>"
      ]
     },
     "metadata": {
      "needs_background": "light"
     },
     "output_type": "display_data"
    }
   ],
   "source": [
    "# Calculate the probability of charges less than 25,000\n",
    "prob = df[df['medical_cost'] < 25000]['medical_cost'].count() / df['medical_cost'].count()\n",
    "\n",
    "# Print the probability\n",
    "print(f'Probability of charges less than 25,000: {prob:.2f}')\n",
    "\n",
    "# Create a histogram of the 'charges' column\n",
    "sns.histplot(df['medical_cost'])\n",
    "\n",
    "# Show the plot\n",
    "plt.show()"
   ]
  },
  {
   "cell_type": "markdown",
   "metadata": {
    "collapsed": true
   },
   "source": [
    "<table align=\"left\">\n",
    "    <tr>\n",
    "        <td width=\"6%\">\n",
    "            <img src=\"question_icon.png\">\n",
    "        </td>\n",
    "        <td>\n",
    "            <div align=\"left\", style=\"font-size:120%\">\n",
    "                <font color=\"#21618C\">\n",
    "                    <b>4. Draw the line for mean and median on the distribution plot and identify the type of skewness for BMI</b>\n",
    "                </font>\n",
    "            </div>\n",
    "        </td>\n",
    "    </tr>\n",
    "</table>"
   ]
  },
  {
   "cell_type": "code",
   "execution_count": 12,
   "metadata": {},
   "outputs": [
    {
     "data": {
      "image/png": "[encoded data removed]",
      "text/plain": [
       "<Figure size 432x288 with 1 Axes>"
      ]
     },
     "metadata": {
      "needs_background": "light"
     },
     "output_type": "display_data"
    },
    {
     "name": "stdout",
     "output_type": "stream",
     "text": [
      "Mean: 31.58\n",
      "Median: 31.64\n",
      "Standard deviation: 6.36\n",
      "Mean and median are not significantly different\n",
      "Skewness: 0.25\n"
     ]
    }
   ],
   "source": [
    "# Calculate the mean and median of the 'bmi' column\n",
    "mean = df['bmi'].mean()\n",
    "median = df['bmi'].median()\n",
    "\n",
    "# Create a histogram of the 'bmi' column\n",
    "sns.histplot(df['bmi'])\n",
    "\n",
    "# Add vertical lines for the mean and median\n",
    "plt.axvline(mean, color='red', linestyle='--')\n",
    "plt.axvline(median, color='green', linestyle='--')\n",
    "\n",
    "# Show the plot\n",
    "plt.show()\n",
    "\n",
    "# Calculate the mean, median, and standard deviation of the 'age' column\n",
    "mean = df['bmi'].mean()\n",
    "median = df['bmi'].median()\n",
    "std = df['bmi'].std()\n",
    "\n",
    "# Print the results\n",
    "print(f'Mean: {mean:.2f}')\n",
    "print(f'Median: {median:.2f}')\n",
    "print(f'Standard deviation: {std:.2f}')\n",
    "\n",
    "# Check if the mean and median are significantly different\n",
    "if abs(mean - median) > std:\n",
    "    print('Mean and median are significantly different')\n",
    "else:\n",
    "    print('Mean and median are not significantly different')\n",
    "    \n",
    "# Calculate the skewness of the 'bmi' column\n",
    "skewness = df['bmi'].skew()\n",
    "print(f'Skewness: {skewness:.2f}')    \n",
    "    "
   ]
  },
  {
   "cell_type": "markdown",
   "metadata": {
    "collapsed": true
   },
   "source": [
    "<table align=\"left\">\n",
    "    <tr>\n",
    "        <td width=\"6%\">\n",
    "            <img src=\"question_icon.png\">\n",
    "        </td>\n",
    "        <td>\n",
    "            <div align=\"left\", style=\"font-size:120%\">\n",
    "                <font color=\"#21618C\">\n",
    "                    <b>5. Visualize the distribution of medical cost using violin plot and describe its distribution</b>\n",
    "                </font>\n",
    "            </div>\n",
    "        </td>\n",
    "    </tr>\n",
    "</table>"
   ]
  },
  {
   "cell_type": "code",
   "execution_count": 13,
   "metadata": {},
   "outputs": [
    {
     "data": {
      "text/plain": [
       "<AxesSubplot:xlabel='medical_cost'>"
      ]
     },
     "execution_count": 13,
     "metadata": {},
     "output_type": "execute_result"
    },
    {
     "data": {
      "image/png": "[encoded data removed]",
      "text/plain": [
       "<Figure size 432x288 with 1 Axes>"
      ]
     },
     "metadata": {
      "needs_background": "light"
     },
     "output_type": "display_data"
    }
   ],
   "source": [
    "# Violin plot of medical costs\n",
    "sns.violinplot(x='medical_cost', data=df)"
   ]
  },
  {
   "cell_type": "markdown",
   "metadata": {},
   "source": [
    "<a id=\"multi\"> </a>\n",
    "## 2. Multivariate Analysis"
   ]
  },
  {
   "cell_type": "markdown",
   "metadata": {
    "collapsed": true
   },
   "source": [
    "<table align=\"left\">\n",
    "    <tr>\n",
    "        <td width=\"6%\">\n",
    "            <img src=\"question_icon.png\">\n",
    "        </td>\n",
    "        <td>\n",
    "            <div align=\"left\", style=\"font-size:120%\">\n",
    "                <font color=\"#21618C\">\n",
    "                    <b>6. Is there any individual with age less than 30 and meadical cost greater than 40k?\n",
    "</b>\n",
    "                </font>\n",
    "            </div>\n",
    "        </td>\n",
    "    </tr>\n",
    "</table>"
   ]
  },
  {
   "cell_type": "code",
   "execution_count": 14,
   "metadata": {},
   "outputs": [
    {
     "name": "stdout",
     "output_type": "stream",
     "text": [
      "There are individuals with age less than 30 and medical cost greater than 40000.\n"
     ]
    }
   ],
   "source": [
    "# Select rows where age is less than 30 and medical cost is greater than 40000\n",
    "selected_rows = df[(df['age'] < 30) & (df['medical_cost'] > 40000)]\n",
    "\n",
    "# Check if any rows were selected\n",
    "if selected_rows.empty:\n",
    "    print(\"There are no individuals with age less than 30 and medical cost greater than 40000.\")\n",
    "else:\n",
    "    print(\"There are individuals with age less than 30 and medical cost greater than 40000.\")\n"
   ]
  },
  {
   "cell_type": "markdown",
   "metadata": {
    "collapsed": true
   },
   "source": [
    "<table align=\"left\">\n",
    "    <tr>\n",
    "        <td width=\"6%\">\n",
    "            <img src=\"question_icon.png\">\n",
    "        </td>\n",
    "        <td>\n",
    "            <div align=\"left\", style=\"font-size:120%\">\n",
    "                <font color=\"#21618C\">\n",
    "                    <b>7. Does the scatter plot of BMI and medical cost reveal potential outliers?</b>\n",
    "                </font>\n",
    "            </div>\n",
    "        </td>\n",
    "    </tr>\n",
    "</table>"
   ]
  },
  {
   "cell_type": "code",
   "execution_count": 15,
   "metadata": {},
   "outputs": [
    {
     "data": {
      "image/png": "[encoded data removed]",
      "text/plain": [
       "<Figure size 432x288 with 1 Axes>"
      ]
     },
     "metadata": {
      "needs_background": "light"
     },
     "output_type": "display_data"
    }
   ],
   "source": [
    "# Scatter plot of BMI and medical cost\n",
    "df.plot(kind='scatter', x='bmi', y='medical_cost', alpha=0.5)\n",
    "plt.show()"
   ]
  },
  {
   "cell_type": "markdown",
   "metadata": {
    "collapsed": true
   },
   "source": [
    "<table align=\"left\">\n",
    "    <tr>\n",
    "        <td width=\"6%\">\n",
    "            <img src=\"question_icon.png\">\n",
    "        </td>\n",
    "        <td>\n",
    "            <div align=\"left\", style=\"font-size:120%\">\n",
    "                <font color=\"#21618C\">\n",
    "                    <b>8. Determine the percentage variation in BMI for males and females\n",
    "\n",
    "</b>\n",
    "                </font>\n",
    "            </div>\n",
    "        </td>\n",
    "    </tr>\n",
    "</table>"
   ]
  },
  {
   "cell_type": "code",
   "execution_count": 16,
   "metadata": {},
   "outputs": [
    {
     "data": {
      "text/plain": [
       "0       False\n",
       "1       False\n",
       "2       False\n",
       "3       False\n",
       "4       False\n",
       "        ...  \n",
       "1295    False\n",
       "1296    False\n",
       "1297    False\n",
       "1298    False\n",
       "1299    False\n",
       "Name: bmi, Length: 1300, dtype: bool"
      ]
     },
     "execution_count": 16,
     "metadata": {},
     "output_type": "execute_result"
    }
   ],
   "source": [
    "mask = df['bmi']=='gender'\n",
    "mask"
   ]
  },
  {
   "cell_type": "markdown",
   "metadata": {},
   "source": [
    "percentage variation = (mean BMI for gender X - mean BMI for gender Y) / mean BMI for gender Y"
   ]
  },
  {
   "cell_type": "code",
   "execution_count": 56,
   "metadata": {},
   "outputs": [
    {
     "name": "stdout",
     "output_type": "stream",
     "text": [
      "Error: Could not calculate percentage variation in BMI for males and females because of missing values\n"
     ]
    }
   ],
   "source": [
    "# Calculate mean BMI for males and females\n",
    "mean_bmi_males = df[df.gender == \"M\"][\"bmi\"].mean()\n",
    "mean_bmi_females = df[df.gender == \"F\"][\"bmi\"].mean()\n",
    "\n",
    "# Check if mean BMI for males or females is nan\n",
    "if np.isnan(mean_bmi_males) or np.isnan(mean_bmi_females):\n",
    "    # Print error message\n",
    "    print(\"Error: Could not calculate percentage variation in BMI for males and females because of missing values\")\n",
    "else:\n",
    "    # Make sure that mean_bmi_males is not 0\n",
    "    if mean_bmi_males == 0:\n",
    "        mean_bmi_males = 1\n",
    "\n",
    "    # Calculate percentage variation in BMI for males and females\n",
    "    percentage_variation = (mean_bmi_females - mean_bmi_males) / mean_bmi_males\n",
    "\n",
    "    print(percentage_variation)"
   ]
  },
  {
   "cell_type": "markdown",
   "metadata": {
    "collapsed": true
   },
   "source": [
    "<table align=\"left\">\n",
    "    <tr>\n",
    "        <td width=\"6%\">\n",
    "            <img src=\"question_icon.png\">\n",
    "        </td>\n",
    "        <td>\n",
    "            <div align=\"left\", style=\"font-size:120%\">\n",
    "                <font color=\"#21618C\">\n",
    "                    <b>9. Which region has the highest number of males?\n",
    "</b>\n",
    "                </font>\n",
    "            </div>\n",
    "        </td>\n",
    "    </tr>\n",
    "</table>"
   ]
  },
  {
   "cell_type": "code",
   "execution_count": 18,
   "metadata": {},
   "outputs": [
    {
     "name": "stdout",
     "output_type": "stream",
     "text": [
      "southeast\n"
     ]
    }
   ],
   "source": [
    "# Filter for rows where gender is male\n",
    "df = df[df.gender == \"M\"]\n",
    "\n",
    "# Count the number of males in each region\n",
    "region_counts = df[\"region\"].value_counts()\n",
    "\n",
    "# Find the region with the highest number of males\n",
    "highest_region = region_counts.index[0]\n",
    "\n",
    "print(highest_region)"
   ]
  },
  {
   "cell_type": "markdown",
   "metadata": {
    "collapsed": true
   },
   "source": [
    "<table align=\"left\">\n",
    "    <tr>\n",
    "        <td width=\"6%\">\n",
    "            <img src=\"question_icon.png\">\n",
    "        </td>\n",
    "        <td>\n",
    "            <div align=\"left\", style=\"font-size:120%\">\n",
    "                <font color=\"#21618C\">\n",
    "                    <b>10. Analyze the pairwise relationship between the numeric variables\n",
    "</b>\n",
    "                </font>\n",
    "            </div>\n",
    "        </td>\n",
    "    </tr>\n",
    "</table>"
   ]
  },
  {
   "cell_type": "code",
   "execution_count": 19,
   "metadata": {},
   "outputs": [
    {
     "data": {
      "text/plain": [
       "<AxesSubplot:>"
      ]
     },
     "execution_count": 19,
     "metadata": {},
     "output_type": "execute_result"
    },
    {
     "data": {
      "image/png": "[encoded data removed]",
      "text/plain": [
       "<Figure size 792x648 with 2 Axes>"
      ]
     },
     "metadata": {
      "needs_background": "light"
     },
     "output_type": "display_data"
    }
   ],
   "source": [
    "import seaborn as sns\n",
    "\n",
    "# Calculate pairwise correlations\n",
    "corr = df.corr()\n",
    "\n",
    "# Generate a mask for the upper triangle\n",
    "mask = np.triu(np.ones_like(corr, dtype=bool))\n",
    "\n",
    "# Set up the matplotlib figure\n",
    "f, ax = plt.subplots(figsize=(11, 9))\n",
    "\n",
    "# Generate a custom diverging colormap\n",
    "cmap = sns.diverging_palette(220, 10, as_cmap=True)\n",
    "\n",
    "# Draw the heatmap with the mask and correct aspect ratio\n",
    "sns.heatmap(corr, mask=mask, cmap=cmap, vmax=.3, center=0,\n",
    "            square=True, linewidths=.5, cbar_kws={\"shrink\": .5})\n"
   ]
  },
  {
   "cell_type": "code",
   "execution_count": 20,
   "metadata": {},
   "outputs": [
    {
     "data": {
      "text/plain": [
       "<AxesSubplot:>"
      ]
     },
     "execution_count": 20,
     "metadata": {},
     "output_type": "execute_result"
    },
    {
     "data": {
      "image/png": "[encoded data removed]",
      "text/plain": [
       "<Figure size 432x288 with 2 Axes>"
      ]
     },
     "metadata": {
      "needs_background": "light"
     },
     "output_type": "display_data"
    }
   ],
   "source": [
    "import seaborn as sns\n",
    "\n",
    "# Visualize correlations using a heatmap\n",
    "sns.heatmap(corr, annot=True)"
   ]
  },
  {
   "cell_type": "code",
   "execution_count": 21,
   "metadata": {},
   "outputs": [
    {
     "data": {
      "text/html": [
       "<div>\n",
       "<style scoped>\n",
       "    .dataframe tbody tr th:only-of-type {\n",
       "        vertical-align: middle;\n",
       "    }\n",
       "\n",
       "    .dataframe tbody tr th {\n",
       "        vertical-align: top;\n",
       "    }\n",
       "\n",
       "    .dataframe thead th {\n",
       "        text-align: right;\n",
       "    }\n",
       "</style>\n",
       "<table border=\"1\" class=\"dataframe\">\n",
       "  <thead>\n",
       "    <tr style=\"text-align: right;\">\n",
       "      <th></th>\n",
       "      <th>age</th>\n",
       "      <th>bmi</th>\n",
       "      <th>bp</th>\n",
       "      <th>children</th>\n",
       "      <th>medical_cost</th>\n",
       "    </tr>\n",
       "  </thead>\n",
       "  <tbody>\n",
       "    <tr>\n",
       "      <th>0</th>\n",
       "      <td>23</td>\n",
       "      <td>31.90</td>\n",
       "      <td>157</td>\n",
       "      <td>0</td>\n",
       "      <td>16884.9240</td>\n",
       "    </tr>\n",
       "    <tr>\n",
       "      <th>5</th>\n",
       "      <td>33</td>\n",
       "      <td>25.74</td>\n",
       "      <td>152</td>\n",
       "      <td>0</td>\n",
       "      <td>3756.6216</td>\n",
       "    </tr>\n",
       "    <tr>\n",
       "      <th>6</th>\n",
       "      <td>48</td>\n",
       "      <td>31.44</td>\n",
       "      <td>150</td>\n",
       "      <td>1</td>\n",
       "      <td>8240.5896</td>\n",
       "    </tr>\n",
       "    <tr>\n",
       "      <th>8</th>\n",
       "      <td>36</td>\n",
       "      <td>31.92</td>\n",
       "      <td>137</td>\n",
       "      <td>1</td>\n",
       "      <td>37701.8768</td>\n",
       "    </tr>\n",
       "    <tr>\n",
       "      <th>9</th>\n",
       "      <td>60</td>\n",
       "      <td>27.72</td>\n",
       "      <td>142</td>\n",
       "      <td>3</td>\n",
       "      <td>14001.1338</td>\n",
       "    </tr>\n",
       "    <tr>\n",
       "      <th>...</th>\n",
       "      <td>...</td>\n",
       "      <td>...</td>\n",
       "      <td>...</td>\n",
       "      <td>...</td>\n",
       "      <td>...</td>\n",
       "    </tr>\n",
       "    <tr>\n",
       "      <th>1294</th>\n",
       "      <td>54</td>\n",
       "      <td>42.70</td>\n",
       "      <td>156</td>\n",
       "      <td>3</td>\n",
       "      <td>11411.6850</td>\n",
       "    </tr>\n",
       "    <tr>\n",
       "      <th>1296</th>\n",
       "      <td>22</td>\n",
       "      <td>34.92</td>\n",
       "      <td>156</td>\n",
       "      <td>0</td>\n",
       "      <td>2205.9808</td>\n",
       "    </tr>\n",
       "    <tr>\n",
       "      <th>1297</th>\n",
       "      <td>21</td>\n",
       "      <td>34.85</td>\n",
       "      <td>145</td>\n",
       "      <td>0</td>\n",
       "      <td>1629.8335</td>\n",
       "    </tr>\n",
       "    <tr>\n",
       "      <th>1298</th>\n",
       "      <td>22</td>\n",
       "      <td>24.80</td>\n",
       "      <td>150</td>\n",
       "      <td>0</td>\n",
       "      <td>2007.9450</td>\n",
       "    </tr>\n",
       "    <tr>\n",
       "      <th>1299</th>\n",
       "      <td>63</td>\n",
       "      <td>33.07</td>\n",
       "      <td>159</td>\n",
       "      <td>0</td>\n",
       "      <td>29141.3603</td>\n",
       "    </tr>\n",
       "  </tbody>\n",
       "</table>\n",
       "<p>643 rows × 5 columns</p>\n",
       "</div>"
      ],
      "text/plain": [
       "      age    bmi  bp   children  medical_cost\n",
       "0      23  31.90  157         0    16884.9240\n",
       "5      33  25.74  152         0     3756.6216\n",
       "6      48  31.44  150         1     8240.5896\n",
       "8      36  31.92  137         1    37701.8768\n",
       "9      60  27.72  142         3    14001.1338\n",
       "...   ...    ...  ...       ...           ...\n",
       "1294   54  42.70  156         3    11411.6850\n",
       "1296   22  34.92  156         0     2205.9808\n",
       "1297   21  34.85  145         0     1629.8335\n",
       "1298   22  24.80  150         0     2007.9450\n",
       "1299   63  33.07  159         0    29141.3603\n",
       "\n",
       "[643 rows x 5 columns]"
      ]
     },
     "execution_count": 21,
     "metadata": {},
     "output_type": "execute_result"
    }
   ],
   "source": [
    "numeric_df = df.select_dtypes(include=['float', 'int'])\n",
    "numeric_df"
   ]
  },
  {
   "cell_type": "code",
   "execution_count": 22,
   "metadata": {},
   "outputs": [
    {
     "data": {
      "text/plain": [
       "<AxesSubplot:>"
      ]
     },
     "execution_count": 22,
     "metadata": {},
     "output_type": "execute_result"
    },
    {
     "data": {
      "image/png": "[encoded data removed]",
      "text/plain": [
       "<Figure size 432x288 with 2 Axes>"
      ]
     },
     "metadata": {
      "needs_background": "light"
     },
     "output_type": "display_data"
    }
   ],
   "source": [
    "import seaborn as sns\n",
    "\n",
    "# Compute the correlation matrix\n",
    "corr = numeric_df.corr()\n",
    "\n",
    "# Generate a heatmap\n",
    "sns.heatmap(corr, xticklabels=corr.columns, yticklabels=corr.columns, cmap='RdBu')"
   ]
  },
  {
   "cell_type": "code",
   "execution_count": 23,
   "metadata": {},
   "outputs": [
    {
     "data": {
      "text/plain": [
       "0.3117692689028615"
      ]
     },
     "execution_count": 23,
     "metadata": {},
     "output_type": "execute_result"
    }
   ],
   "source": [
    "corr_age_medical_cost = corr.loc[\"age\", \"medical_cost\"]\n",
    "corr_age_medical_cost "
   ]
  },
  {
   "cell_type": "code",
   "execution_count": 24,
   "metadata": {},
   "outputs": [
    {
     "data": {
      "image/png": "[encoded data removed]",
      "text/plain": [
       "<Figure size 432x432 with 25 Axes>"
      ]
     },
     "metadata": {
      "needs_background": "light"
     },
     "output_type": "display_data"
    }
   ],
   "source": [
    "# Import plotting module\n",
    "from pandas.plotting import scatter_matrix\n",
    "\n",
    "# Create a scatter plot matrix\n",
    "scatter_matrix(df, figsize=(6, 6))\n",
    "\n",
    "# Show plot\n",
    "plt.show()"
   ]
  },
  {
   "cell_type": "markdown",
   "metadata": {
    "collapsed": true
   },
   "source": [
    "<table align=\"left\">\n",
    "    <tr>\n",
    "        <td width=\"6%\">\n",
    "            <img src=\"question_icon.png\">\n",
    "        </td>\n",
    "        <td>\n",
    "            <div align=\"left\", style=\"font-size:120%\">\n",
    "                <font color=\"#21618C\">\n",
    "                    <b>11. Are the medical costs affected by an individual's smoking habits?</b>\n",
    "                </font>\n",
    "            </div>\n",
    "        </td>\n",
    "    </tr>\n",
    "</table>"
   ]
  },
  {
   "cell_type": "code",
   "execution_count": 25,
   "metadata": {},
   "outputs": [
    {
     "name": "stdout",
     "output_type": "stream",
     "text": [
      "Index(['age', 'gender', 'bmi', 'bp ', 'children', 'region', 'smoker',\n",
      "       'medical_cost'],\n",
      "      dtype='object')\n"
     ]
    }
   ],
   "source": [
    "print(df.columns)"
   ]
  },
  {
   "cell_type": "code",
   "execution_count": 26,
   "metadata": {},
   "outputs": [],
   "source": [
    "df = pd.get_dummies(df, columns=[\"smoker\"])"
   ]
  },
  {
   "cell_type": "code",
   "execution_count": 27,
   "metadata": {},
   "outputs": [
    {
     "data": {
      "text/html": [
       "<div>\n",
       "<style scoped>\n",
       "    .dataframe tbody tr th:only-of-type {\n",
       "        vertical-align: middle;\n",
       "    }\n",
       "\n",
       "    .dataframe tbody tr th {\n",
       "        vertical-align: top;\n",
       "    }\n",
       "\n",
       "    .dataframe thead th {\n",
       "        text-align: right;\n",
       "    }\n",
       "</style>\n",
       "<table border=\"1\" class=\"dataframe\">\n",
       "  <thead>\n",
       "    <tr style=\"text-align: right;\">\n",
       "      <th></th>\n",
       "      <th>age</th>\n",
       "      <th>gender</th>\n",
       "      <th>bmi</th>\n",
       "      <th>bp</th>\n",
       "      <th>children</th>\n",
       "      <th>region</th>\n",
       "      <th>medical_cost</th>\n",
       "      <th>smoker_non-smoker</th>\n",
       "      <th>smoker_smoker</th>\n",
       "    </tr>\n",
       "  </thead>\n",
       "  <tbody>\n",
       "    <tr>\n",
       "      <th>0</th>\n",
       "      <td>23</td>\n",
       "      <td>M</td>\n",
       "      <td>31.9</td>\n",
       "      <td>157</td>\n",
       "      <td>0</td>\n",
       "      <td>southwest</td>\n",
       "      <td>16884.924</td>\n",
       "      <td>0</td>\n",
       "      <td>1</td>\n",
       "    </tr>\n",
       "  </tbody>\n",
       "</table>\n",
       "</div>"
      ],
      "text/plain": [
       "   age gender   bmi  bp   children     region  medical_cost  \\\n",
       "0   23      M  31.9  157         0  southwest     16884.924   \n",
       "\n",
       "   smoker_non-smoker  smoker_smoker  \n",
       "0                  0              1  "
      ]
     },
     "execution_count": 27,
     "metadata": {},
     "output_type": "execute_result"
    }
   ],
   "source": [
    "df.head(1)"
   ]
  },
  {
   "cell_type": "code",
   "execution_count": 28,
   "metadata": {},
   "outputs": [
    {
     "name": "stdout",
     "output_type": "stream",
     "text": [
      "Pearson correlation coefficient: 0.750\n",
      "p-value: 0.000\n"
     ]
    }
   ],
   "source": [
    "from scipy.stats import pearsonr\n",
    "\n",
    "# Calculate Pearson correlation coefficient\n",
    "r, p = pearsonr(df[\"medical_cost\"], df[\"smoker_smoker\"])\n",
    "print(f\"Pearson correlation coefficient: {r:.3f}\")\n",
    "print(f\"p-value: {p:.3f}\")"
   ]
  },
  {
   "cell_type": "raw",
   "metadata": {},
   "source": [
    "The Pearson correlation coefficient will be a value between -1 and 1, where a value of -1 indicates a strong negative correlation, a value of 0 indicates no correlation, and a value of 1 indicates a strong positive correlation. The p-value is a measure of statistical significance. A small p-value (e.g. less than 0.05) indicates that the observed correlation is statistically significant and is not likely to have occurred by chance.\n",
    "\n",
    "Based on the Pearson correlation coefficient and the p-value, you can determine whether or not there is a significant relationship between medical costs and smoking habits."
   ]
  },
  {
   "cell_type": "markdown",
   "metadata": {
    "collapsed": true
   },
   "source": [
    "<table align=\"left\">\n",
    "    <tr>\n",
    "        <td width=\"6%\">\n",
    "            <img src=\"question_icon.png\">\n",
    "        </td>\n",
    "        <td>\n",
    "            <div align=\"left\", style=\"font-size:120%\">\n",
    "                <font color=\"#21618C\">\n",
    "                    <b>12. Check if the region of residence and age of the individuals have an impact on the medical cost? </b>\n",
    "                </font>\n",
    "            </div>\n",
    "        </td>\n",
    "    </tr>\n",
    "</table>"
   ]
  },
  {
   "cell_type": "code",
   "execution_count": 29,
   "metadata": {},
   "outputs": [
    {
     "name": "stdout",
     "output_type": "stream",
     "text": [
      "Pearson correlation coefficient: 0.312\n",
      "p-value: 0.000\n"
     ]
    }
   ],
   "source": [
    "from scipy.stats import pearsonr\n",
    "\n",
    "# Calculate Pearson correlation coefficient\n",
    "r, p = pearsonr(df[\"age\"], df[\"medical_cost\"])\n",
    "print(f\"Pearson correlation coefficient: {r:.3f}\")\n",
    "print(f\"p-value: {p:.3f}\")"
   ]
  },
  {
   "cell_type": "code",
   "execution_count": 30,
   "metadata": {},
   "outputs": [],
   "source": [
    "from sklearn.preprocessing import LabelEncoder\n",
    "\n",
    "# Initialize label encoder\n",
    "le = LabelEncoder()\n",
    "\n",
    "# Fit label encoder to region column\n",
    "le.fit(df[\"region\"])\n",
    "\n",
    "# Transform region column\n",
    "df[\"region\"] = le.transform(df[\"region\"])"
   ]
  },
  {
   "cell_type": "code",
   "execution_count": 31,
   "metadata": {},
   "outputs": [
    {
     "name": "stdout",
     "output_type": "stream",
     "text": [
      "Pearson correlation coefficient: -0.095\n",
      "p-value: 0.015\n"
     ]
    }
   ],
   "source": [
    "from scipy.stats import pearsonr\n",
    "\n",
    "# Calculate Pearson correlation coefficient\n",
    "r, p = pearsonr(df[\"region\"], df[\"medical_cost\"])\n",
    "\n",
    "print(f\"Pearson correlation coefficient: {r:.3f}\")\n",
    "print(f\"p-value: {p:.3f}\")"
   ]
  },
  {
   "cell_type": "markdown",
   "metadata": {},
   "source": [
    "<a id=\"cat\"> </a>\n",
    "## 3. Handle Non-Numeric Data"
   ]
  },
  {
   "cell_type": "markdown",
   "metadata": {
    "collapsed": true
   },
   "source": [
    "<table align=\"left\">\n",
    "    <tr>\n",
    "        <td width=\"6%\">\n",
    "            <img src=\"question_icon.png\">\n",
    "        </td>\n",
    "        <td>\n",
    "            <div align=\"left\", style=\"font-size:120%\">\n",
    "                <font color=\"#21618C\">\n",
    "                    <b>13. Create a dummy variable for each category in 'region' \n",
    " </b>\n",
    "                </font>\n",
    "            </div>\n",
    "        </td>\n",
    "    </tr>\n",
    "</table>"
   ]
  },
  {
   "cell_type": "code",
   "execution_count": 32,
   "metadata": {},
   "outputs": [
    {
     "data": {
      "text/plain": [
       "Index(['age', 'gender', 'bmi', 'bp ', 'children', 'region', 'medical_cost',\n",
       "       'smoker_non-smoker', 'smoker_smoker'],\n",
       "      dtype='object')"
      ]
     },
     "execution_count": 32,
     "metadata": {},
     "output_type": "execute_result"
    }
   ],
   "source": [
    "df.columns"
   ]
  },
  {
   "cell_type": "code",
   "execution_count": 33,
   "metadata": {
    "scrolled": true
   },
   "outputs": [
    {
     "data": {
      "text/html": [
       "<div>\n",
       "<style scoped>\n",
       "    .dataframe tbody tr th:only-of-type {\n",
       "        vertical-align: middle;\n",
       "    }\n",
       "\n",
       "    .dataframe tbody tr th {\n",
       "        vertical-align: top;\n",
       "    }\n",
       "\n",
       "    .dataframe thead th {\n",
       "        text-align: right;\n",
       "    }\n",
       "</style>\n",
       "<table border=\"1\" class=\"dataframe\">\n",
       "  <thead>\n",
       "    <tr style=\"text-align: right;\">\n",
       "      <th></th>\n",
       "      <th>age</th>\n",
       "      <th>gender</th>\n",
       "      <th>bmi</th>\n",
       "      <th>bp</th>\n",
       "      <th>children</th>\n",
       "      <th>medical_cost</th>\n",
       "      <th>smoker_non-smoker</th>\n",
       "      <th>smoker_smoker</th>\n",
       "      <th>region_0</th>\n",
       "      <th>region_1</th>\n",
       "      <th>region_2</th>\n",
       "      <th>region_3</th>\n",
       "    </tr>\n",
       "  </thead>\n",
       "  <tbody>\n",
       "    <tr>\n",
       "      <th>0</th>\n",
       "      <td>23</td>\n",
       "      <td>M</td>\n",
       "      <td>31.90</td>\n",
       "      <td>157</td>\n",
       "      <td>0</td>\n",
       "      <td>16884.9240</td>\n",
       "      <td>0</td>\n",
       "      <td>1</td>\n",
       "      <td>0</td>\n",
       "      <td>0</td>\n",
       "      <td>0</td>\n",
       "      <td>1</td>\n",
       "    </tr>\n",
       "    <tr>\n",
       "      <th>5</th>\n",
       "      <td>33</td>\n",
       "      <td>M</td>\n",
       "      <td>25.74</td>\n",
       "      <td>152</td>\n",
       "      <td>0</td>\n",
       "      <td>3756.6216</td>\n",
       "      <td>1</td>\n",
       "      <td>0</td>\n",
       "      <td>0</td>\n",
       "      <td>0</td>\n",
       "      <td>1</td>\n",
       "      <td>0</td>\n",
       "    </tr>\n",
       "  </tbody>\n",
       "</table>\n",
       "</div>"
      ],
      "text/plain": [
       "   age gender    bmi  bp   children  medical_cost  smoker_non-smoker  \\\n",
       "0   23      M  31.90  157         0    16884.9240                  0   \n",
       "5   33      M  25.74  152         0     3756.6216                  1   \n",
       "\n",
       "   smoker_smoker  region_0  region_1  region_2  region_3  \n",
       "0              1         0         0         0         1  \n",
       "5              0         0         0         1         0  "
      ]
     },
     "execution_count": 33,
     "metadata": {},
     "output_type": "execute_result"
    }
   ],
   "source": [
    "df = pd.get_dummies(df, columns=['region'])\n",
    "df.head(2)"
   ]
  },
  {
   "cell_type": "markdown",
   "metadata": {
    "collapsed": true
   },
   "source": [
    "<table align=\"left\">\n",
    "    <tr>\n",
    "        <td width=\"6%\">\n",
    "            <img src=\"question_icon.png\">\n",
    "        </td>\n",
    "        <td>\n",
    "            <div align=\"left\", style=\"font-size:120%\">\n",
    "                <font color=\"#21618C\">\n",
    "                    <b>14. Create a variable 'smoker_label' containing unique label for each category in the variable 'smoker'\n",
    "</b>\n",
    "                </font>\n",
    "            </div>\n",
    "        </td>\n",
    "    </tr>\n",
    "</table>"
   ]
  },
  {
   "cell_type": "code",
   "execution_count": 34,
   "metadata": {},
   "outputs": [
    {
     "name": "stdout",
     "output_type": "stream",
     "text": [
      "[0 1]\n"
     ]
    }
   ],
   "source": [
    "# Initialize LabelEncoder\n",
    "le = LabelEncoder()\n",
    "\n",
    "# Fit and transform the 'smoker' column\n",
    "df['smoker_label'] = le.fit_transform(df['smoker_non-smoker'])\n",
    "\n",
    "# Print the unique labels\n",
    "print(le.classes_)"
   ]
  },
  {
   "cell_type": "code",
   "execution_count": 35,
   "metadata": {},
   "outputs": [
    {
     "data": {
      "text/plain": [
       "0       0\n",
       "5       1\n",
       "6       1\n",
       "8       0\n",
       "9       1\n",
       "       ..\n",
       "1294    1\n",
       "1296    1\n",
       "1297    1\n",
       "1298    1\n",
       "1299    0\n",
       "Name: smoker_label, Length: 643, dtype: int64"
      ]
     },
     "execution_count": 35,
     "metadata": {},
     "output_type": "execute_result"
    }
   ],
   "source": [
    "df['smoker_label']"
   ]
  },
  {
   "cell_type": "markdown",
   "metadata": {
    "collapsed": true
   },
   "source": [
    "<table align=\"left\">\n",
    "    <tr>\n",
    "        <td width=\"6%\">\n",
    "            <img src=\"question_icon.png\">\n",
    "        </td>\n",
    "        <td>\n",
    "            <div align=\"left\", style=\"font-size:120%\">\n",
    "                <font color=\"#21618C\">\n",
    "                    <b>15. Create a variable which will contain the frequency of an individual's gender</b>\n",
    "                </font>\n",
    "            </div>\n",
    "        </td>\n",
    "    </tr>\n",
    "</table>"
   ]
  },
  {
   "cell_type": "code",
   "execution_count": 36,
   "metadata": {},
   "outputs": [
    {
     "name": "stdout",
     "output_type": "stream",
     "text": [
      "M    643\n",
      "Name: gender, dtype: int64\n"
     ]
    }
   ],
   "source": [
    "# Create a variable `gender_counts` which contains the frequency of each gender\n",
    "gender_counts = df['gender'].value_counts()\n",
    "\n",
    "# Print the value counts for each gender\n",
    "print(gender_counts)"
   ]
  },
  {
   "cell_type": "markdown",
   "metadata": {
    "collapsed": true
   },
   "source": [
    "<table align=\"left\">\n",
    "    <tr>\n",
    "        <td width=\"6%\">\n",
    "            <img src=\"question_icon.png\">\n",
    "        </td>\n",
    "        <td>\n",
    "            <div align=\"left\", style=\"font-size:120%\">\n",
    "                <font color=\"#21618C\">\n",
    "                    <b>16. Create a variable such that the value '1' indicates that the individual is a smoker and '0' indicates a non-smoker</b>\n",
    "                </font>\n",
    "            </div>\n",
    "        </td>\n",
    "    </tr>\n",
    "</table>"
   ]
  },
  {
   "cell_type": "code",
   "execution_count": 37,
   "metadata": {},
   "outputs": [],
   "source": [
    "df['smoker_binary'] = df['smoker_smoker'].apply(lambda x: 1 if x == 1 else 0)"
   ]
  },
  {
   "cell_type": "code",
   "execution_count": 38,
   "metadata": {},
   "outputs": [
    {
     "data": {
      "text/plain": [
       "0    1\n",
       "5    0\n",
       "6    0\n",
       "8    1\n",
       "9    0\n",
       "Name: smoker_binary, dtype: int64"
      ]
     },
     "execution_count": 38,
     "metadata": {},
     "output_type": "execute_result"
    }
   ],
   "source": [
    "df['smoker_binary'].head()"
   ]
  },
  {
   "cell_type": "markdown",
   "metadata": {},
   "source": [
    "<a id=\"norm\"> </a>\n",
    "## 4. Normalization"
   ]
  },
  {
   "cell_type": "markdown",
   "metadata": {
    "collapsed": true
   },
   "source": [
    "<table align=\"left\">\n",
    "    <tr>\n",
    "        <td width=\"6%\">\n",
    "            <img src=\"question_icon.png\">\n",
    "        </td>\n",
    "        <td>\n",
    "            <div align=\"left\", style=\"font-size:120%\">\n",
    "                <font color=\"#21618C\">\n",
    "                    <b>17. Transform BMI such that it will have mean zero and variance one</b>\n",
    "                </font>\n",
    "            </div>\n",
    "        </td>\n",
    "    </tr>\n",
    "</table>"
   ]
  },
  {
   "cell_type": "code",
   "execution_count": 39,
   "metadata": {},
   "outputs": [
    {
     "name": "stdout",
     "output_type": "stream",
     "text": [
      "1.6454782931069583e-16\n",
      "1.000778513158008\n"
     ]
    }
   ],
   "source": [
    "from sklearn.preprocessing import StandardScaler\n",
    "\n",
    "# Initialize StandardScaler\n",
    "scaler = StandardScaler()\n",
    "\n",
    "# Fit and transform the 'bmi' column\n",
    "df['bmi_normalized'] = scaler.fit_transform(df[['bmi']])\n",
    "\n",
    "# Print the mean and standard deviation of the 'bmi_normalized' column\n",
    "print(df['bmi_normalized'].mean())\n",
    "print(df['bmi_normalized'].std())"
   ]
  },
  {
   "cell_type": "markdown",
   "metadata": {
    "collapsed": true
   },
   "source": [
    "<table align=\"left\">\n",
    "    <tr>\n",
    "        <td width=\"6%\">\n",
    "            <img src=\"question_icon.png\">\n",
    "        </td>\n",
    "        <td>\n",
    "            <div align=\"left\", style=\"font-size:120%\">\n",
    "                <font color=\"#21618C\">\n",
    "                    <b>18. Check the range of 'age' and transform the values such that the range will be 1</b>\n",
    "                </font>\n",
    "            </div>\n",
    "        </td>\n",
    "    </tr>\n",
    "</table>"
   ]
  },
  {
   "cell_type": "code",
   "execution_count": 40,
   "metadata": {},
   "outputs": [
    {
     "name": "stdout",
     "output_type": "stream",
     "text": [
      "0.0\n",
      "1.0\n"
     ]
    }
   ],
   "source": [
    "from sklearn.preprocessing import MinMaxScaler\n",
    "\n",
    "# Initialize the MinMaxScaler\n",
    "scaler = MinMaxScaler()\n",
    "\n",
    "# Fit and transform the 'age' column\n",
    "df['age'] = scaler.fit_transform(df[['age']])\n",
    "\n",
    "# Check the range of the 'age' column\n",
    "print(df['age'].min())\n",
    "print(df['age'].max())"
   ]
  },
  {
   "cell_type": "markdown",
   "metadata": {},
   "source": [
    "<a id=\"trans\"> </a>\n",
    "## 5. Transformation Techniques"
   ]
  },
  {
   "cell_type": "markdown",
   "metadata": {
    "collapsed": true
   },
   "source": [
    "<table align=\"left\">\n",
    "    <tr>\n",
    "        <td width=\"6%\">\n",
    "            <img src=\"question_icon.png\">\n",
    "        </td>\n",
    "        <td>\n",
    "            <div align=\"left\", style=\"font-size:120%\">\n",
    "                <font color=\"#21618C\">\n",
    "                    <b>19. Check the skewness for 'medical_cost'. If the data is skewed, then use the appropriate technique to reduce the skewness in the data\n",
    "</b>\n",
    "                </font>\n",
    "            </div>\n",
    "        </td>\n",
    "    </tr>\n",
    "</table>"
   ]
  },
  {
   "cell_type": "code",
   "execution_count": 41,
   "metadata": {},
   "outputs": [
    {
     "name": "stdout",
     "output_type": "stream",
     "text": [
      "1.7167599771155124\n"
     ]
    }
   ],
   "source": [
    "from scipy.stats import skew\n",
    "\n",
    "skewness = skew(df['medical_cost'])\n",
    "print(skewness)"
   ]
  },
  {
   "cell_type": "code",
   "execution_count": 47,
   "metadata": {},
   "outputs": [
    {
     "data": {
      "image/png": "[encoded data removed]",
      "text/plain": [
       "<Figure size 432x288 with 1 Axes>"
      ]
     },
     "metadata": {
      "needs_background": "light"
     },
     "output_type": "display_data"
    },
    {
     "data": {
      "image/png": "[encoded data removed]",
      "text/plain": [
       "<Figure size 432x288 with 1 Axes>"
      ]
     },
     "metadata": {
      "needs_background": "light"
     },
     "output_type": "display_data"
    }
   ],
   "source": [
    "import numpy as np\n",
    "\n",
    "# Apply log transformation to the data\n",
    "data_log = np.log(df['medical_cost'])\n",
    "\n",
    "# Plot the original data and the transformed data\n",
    "import matplotlib.pyplot as plt\n",
    "plt.hist(df['medical_cost'], bins=50)\n",
    "plt.show()\n",
    "plt.hist(data_log, bins=50)\n",
    "plt.show()"
   ]
  },
  {
   "cell_type": "markdown",
   "metadata": {
    "collapsed": true
   },
   "source": [
    "<table align=\"left\">\n",
    "    <tr>\n",
    "        <td width=\"6%\">\n",
    "            <img src=\"question_icon.png\">\n",
    "        </td>\n",
    "        <td>\n",
    "            <div align=\"left\", style=\"font-size:120%\">\n",
    "                <font color=\"#21618C\">\n",
    "                    <b>20. Transform the 'log_medical_cost' values to the original scale and compare the 'medical_cost' and the transformed data</b>\n",
    "                </font>\n",
    "            </div>\n",
    "\n",
    "</td>\n",
    "    </tr>\n",
    "</table>"
   ]
  },
  {
   "cell_type": "code",
   "execution_count": 42,
   "metadata": {},
   "outputs": [],
   "source": [
    "df['log_medical_cost'] = np.log(df['medical_cost'])"
   ]
  },
  {
   "cell_type": "code",
   "execution_count": 43,
   "metadata": {},
   "outputs": [],
   "source": [
    "medical_cost_transformed = np.exp(df['log_medical_cost'])"
   ]
  },
  {
   "cell_type": "code",
   "execution_count": 44,
   "metadata": {},
   "outputs": [
    {
     "data": {
      "text/plain": [
       "0       16884.9240\n",
       "5        3756.6216\n",
       "6        8240.5896\n",
       "8       37701.8768\n",
       "9       14001.1338\n",
       "           ...    \n",
       "1294    11411.6850\n",
       "1296     2205.9808\n",
       "1297     1629.8335\n",
       "1298     2007.9450\n",
       "1299    29141.3603\n",
       "Name: log_medical_cost, Length: 643, dtype: float64"
      ]
     },
     "execution_count": 44,
     "metadata": {},
     "output_type": "execute_result"
    }
   ],
   "source": [
    "medical_cost_transformed "
   ]
  },
  {
   "cell_type": "code",
   "execution_count": 45,
   "metadata": {},
   "outputs": [
    {
     "name": "stdout",
     "output_type": "stream",
     "text": [
      "0    16884.9240\n",
      "5     3756.6216\n",
      "6     8240.5896\n",
      "8    37701.8768\n",
      "9    14001.1338\n",
      "Name: medical_cost, dtype: float64\n",
      "0    16884.9240\n",
      "5     3756.6216\n",
      "6     8240.5896\n",
      "8    37701.8768\n",
      "9    14001.1338\n",
      "Name: log_medical_cost, dtype: float64\n"
     ]
    }
   ],
   "source": [
    "# Compare the 'medical_cost' and the transformed data\n",
    "print(df['medical_cost'].head())\n",
    "print(medical_cost_transformed.head())"
   ]
  },
  {
   "cell_type": "markdown",
   "metadata": {},
   "source": [
    "The output shows the values of the 'medical_cost' and 'log_medical_cost' columns for the first 5 rows of the data. It seems that the values in the 'log_medical_cost' column are the same as the values in the 'medical_cost' column, which means that the log transformation was not applied to the 'medical_cost' values."
   ]
  }
 ],
 "metadata": {
  "kernelspec": {
   "display_name": "Python 3 (ipykernel)",
   "language": "python",
   "name": "python3"
  },
  "language_info": {
   "codemirror_mode": {
    "name": "ipython",
    "version": 3
   },
   "file_extension": ".py",
   "mimetype": "text/x-python",
   "name": "python",
   "nbconvert_exporter": "python",
   "pygments_lexer": "ipython3",
   "version": "3.9.12"
  }
 },
 "nbformat": 4,
 "nbformat_minor": 2
}
